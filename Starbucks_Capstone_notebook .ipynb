{
 "cells": [
  {
   "cell_type": "markdown",
   "metadata": {},
   "source": [
    "# Starbucks Capstone Challenge\n",
    "\n",
    "### Introduction\n",
    "\n",
    "This data set contains simulated data that mimics customer behavior on the Starbucks rewards mobile app. Once every few days, Starbucks sends out an offer to users of the mobile app. An offer can be merely an advertisement for a drink or an actual offer such as a discount or BOGO (buy one get one free). Some users might not receive any offer during certain weeks. \n",
    "\n",
    "Not all users receive the same offer, and that is the challenge to solve with this data set.\n",
    "\n",
    "Your task is to combine transaction, demographic and offer data to determine which demographic groups respond best to which offer type. This data set is a simplified version of the real Starbucks app because the underlying simulator only has one product whereas Starbucks actually sells dozens of products.\n",
    "\n",
    "Every offer has a validity period before the offer expires. As an example, a BOGO offer might be valid for only 5 days. You'll see in the data set that informational offers have a validity period even though these ads are merely providing information about a product; for example, if an informational offer has 7 days of validity, you can assume the customer is feeling the influence of the offer for 7 days after receiving the advertisement.\n",
    "\n",
    "You'll be given transactional data showing user purchases made on the app including the timestamp of purchase and the amount of money spent on a purchase. This transactional data also has a record for each offer that a user receives as well as a record for when a user actually views the offer. There are also records for when a user completes an offer. \n",
    "\n",
    "Keep in mind as well that someone using the app might make a purchase through the app without having received an offer or seen an offer.\n",
    "\n",
    "### Example\n",
    "\n",
    "To give an example, a user could receive a discount offer buy 10 dollars get 2 off on Monday. The offer is valid for 10 days from receipt. If the customer accumulates at least 10 dollars in purchases during the validity period, the customer completes the offer.\n",
    "\n",
    "However, there are a few things to watch out for in this data set. Customers do not opt into the offers that they receive; in other words, a user can receive an offer, never actually view the offer, and still complete the offer. For example, a user might receive the \"buy 10 dollars get 2 dollars off offer\", but the user never opens the offer during the 10 day validity period. The customer spends 15 dollars during those ten days. There will be an offer completion record in the data set; however, the customer was not influenced by the offer because the customer never viewed the offer.\n",
    "\n",
    "### Cleaning\n",
    "\n",
    "This makes data cleaning especially important and tricky.\n",
    "\n",
    "You'll also want to take into account that some demographic groups will make purchases even if they don't receive an offer. From a business perspective, if a customer is going to make a 10 dollar purchase without an offer anyway, you wouldn't want to send a buy 10 dollars get 2 dollars off offer. You'll want to try to assess what a certain demographic group will buy when not receiving any offers.\n",
    "\n",
    "### Final Advice\n",
    "\n",
    "Because this is a capstone project, you are free to analyze the data any way you see fit. For example, you could build a machine learning model that predicts how much someone will spend based on demographics and offer type. Or you could build a model that predicts whether or not someone will respond to an offer. Or, you don't need to build a machine learning model at all. You could develop a set of heuristics that determine what offer you should send to each customer (i.e., 75 percent of women customers who were 35 years old responded to offer A vs 40 percent from the same demographic to offer B, so send offer A)."
   ]
  },
  {
   "cell_type": "markdown",
   "metadata": {},
   "source": [
    "# Data Sets\n",
    "\n",
    "The data is contained in three files:\n",
    "\n",
    "* portfolio.json - containing offer ids and meta data about each offer (duration, type, etc.)\n",
    "* profile.json - demographic data for each customer\n",
    "* transcript.json - records for transactions, offers received, offers viewed, and offers completed\n",
    "\n",
    "Here is the schema and explanation of each variable in the files:\n",
    "\n",
    "**portfolio.json**\n",
    "* id (string) - offer id\n",
    "* offer_type (string) - type of offer ie BOGO, discount, informational\n",
    "* difficulty (int) - minimum required spend to complete an offer\n",
    "* reward (int) - reward given for completing an offer\n",
    "* duration (int) - time for offer to be open, in days\n",
    "* channels (list of strings)\n",
    "\n",
    "**profile.json**\n",
    "* age (int) - age of the customer \n",
    "* became_member_on (int) - date when customer created an app account\n",
    "* gender (str) - gender of the customer (note some entries contain 'O' for other rather than M or F)\n",
    "* id (str) - customer id\n",
    "* income (float) - customer's income\n",
    "\n",
    "**transcript.json**\n",
    "* event (str) - record description (ie transaction, offer received, offer viewed, etc.)\n",
    "* person (str) - customer id\n",
    "* time (int) - time in hours since start of test. The data begins at time t=0\n",
    "* value - (dict of strings) - either an offer id or transaction amount depending on the record\n",
    "\n",
    "**Note:** If you are using the workspace, you will need to go to the terminal and run the command `conda update pandas` before reading in the files. This is because the version of pandas in the workspace cannot read in the transcript.json file correctly, but the newest version of pandas can. You can access the termnal from the orange icon in the top left of this notebook.  \n",
    "\n",
    "You can see how to access the terminal and how the install works using the two images below.  First you need to access the terminal:\n",
    "\n",
    "<img src=\"pic1.png\"/>\n",
    "\n",
    "Then you will want to run the above command:\n",
    "\n",
    "<img src=\"pic2.png\"/>\n",
    "\n",
    "Finally, when you enter back into the notebook (use the jupyter icon again), you should be able to run the below cell without any errors."
   ]
  },
  {
   "cell_type": "code",
   "execution_count": 1,
   "metadata": {},
   "outputs": [],
   "source": [
    "import re\n",
    "import math\n",
    "import json\n",
    "import numpy as np\n",
    "import pandas as pd\n",
    "import seaborn as sns\n",
    "\n",
    "from matplotlib import pyplot as plt\n",
    "% matplotlib inline\n",
    "\n",
    "from sklearn.tree import DecisionTreeClassifier\n",
    "from sklearn.preprocessing import StandardScaler\n",
    "from sklearn.ensemble import RandomForestClassifier\n",
    "from sklearn.linear_model import LogisticRegression\n",
    "from sklearn.metrics import accuracy_score, f1_score\n",
    "from sklearn.metrics import fbeta_score, make_scorer\n",
    "from sklearn.model_selection import RandomizedSearchCV\n",
    "from sklearn.metrics import accuracy_score, confusion_matrix\n",
    "from sklearn.model_selection import train_test_split,GridSearchCV\n",
    "\n",
    "import warnings\n",
    "warnings.filterwarnings('ignore')\n",
    "\n",
    "# read in the json files\n",
    "portfolio = pd.read_json('data/portfolio.json', orient='records', lines=True)\n",
    "profile = pd.read_json('data/profile.json', orient='records', lines=True)\n",
    "transcript = pd.read_json('data/transcript.json', orient='records', lines=True)"
   ]
  },
  {
   "cell_type": "markdown",
   "metadata": {},
   "source": [
    "## Load and Clean Dataset"
   ]
  },
  {
   "cell_type": "markdown",
   "metadata": {},
   "source": [
    "### 1.1 Portfolio Dataset"
   ]
  },
  {
   "cell_type": "markdown",
   "metadata": {},
   "source": [
    "### Show Data"
   ]
  },
  {
   "cell_type": "code",
   "execution_count": 2,
   "metadata": {
    "scrolled": true
   },
   "outputs": [
    {
     "data": {
      "text/html": [
       "<div>\n",
       "<style scoped>\n",
       "    .dataframe tbody tr th:only-of-type {\n",
       "        vertical-align: middle;\n",
       "    }\n",
       "\n",
       "    .dataframe tbody tr th {\n",
       "        vertical-align: top;\n",
       "    }\n",
       "\n",
       "    .dataframe thead th {\n",
       "        text-align: right;\n",
       "    }\n",
       "</style>\n",
       "<table border=\"1\" class=\"dataframe\">\n",
       "  <thead>\n",
       "    <tr style=\"text-align: right;\">\n",
       "      <th></th>\n",
       "      <th>channels</th>\n",
       "      <th>difficulty</th>\n",
       "      <th>duration</th>\n",
       "      <th>id</th>\n",
       "      <th>offer_type</th>\n",
       "      <th>reward</th>\n",
       "    </tr>\n",
       "  </thead>\n",
       "  <tbody>\n",
       "    <tr>\n",
       "      <th>0</th>\n",
       "      <td>[email, mobile, social]</td>\n",
       "      <td>10</td>\n",
       "      <td>7</td>\n",
       "      <td>ae264e3637204a6fb9bb56bc8210ddfd</td>\n",
       "      <td>bogo</td>\n",
       "      <td>10</td>\n",
       "    </tr>\n",
       "    <tr>\n",
       "      <th>1</th>\n",
       "      <td>[web, email, mobile, social]</td>\n",
       "      <td>10</td>\n",
       "      <td>5</td>\n",
       "      <td>4d5c57ea9a6940dd891ad53e9dbe8da0</td>\n",
       "      <td>bogo</td>\n",
       "      <td>10</td>\n",
       "    </tr>\n",
       "    <tr>\n",
       "      <th>2</th>\n",
       "      <td>[web, email, mobile]</td>\n",
       "      <td>0</td>\n",
       "      <td>4</td>\n",
       "      <td>3f207df678b143eea3cee63160fa8bed</td>\n",
       "      <td>informational</td>\n",
       "      <td>0</td>\n",
       "    </tr>\n",
       "    <tr>\n",
       "      <th>3</th>\n",
       "      <td>[web, email, mobile]</td>\n",
       "      <td>5</td>\n",
       "      <td>7</td>\n",
       "      <td>9b98b8c7a33c4b65b9aebfe6a799e6d9</td>\n",
       "      <td>bogo</td>\n",
       "      <td>5</td>\n",
       "    </tr>\n",
       "    <tr>\n",
       "      <th>4</th>\n",
       "      <td>[web, email]</td>\n",
       "      <td>20</td>\n",
       "      <td>10</td>\n",
       "      <td>0b1e1539f2cc45b7b9fa7c272da2e1d7</td>\n",
       "      <td>discount</td>\n",
       "      <td>5</td>\n",
       "    </tr>\n",
       "    <tr>\n",
       "      <th>5</th>\n",
       "      <td>[web, email, mobile, social]</td>\n",
       "      <td>7</td>\n",
       "      <td>7</td>\n",
       "      <td>2298d6c36e964ae4a3e7e9706d1fb8c2</td>\n",
       "      <td>discount</td>\n",
       "      <td>3</td>\n",
       "    </tr>\n",
       "    <tr>\n",
       "      <th>6</th>\n",
       "      <td>[web, email, mobile, social]</td>\n",
       "      <td>10</td>\n",
       "      <td>10</td>\n",
       "      <td>fafdcd668e3743c1bb461111dcafc2a4</td>\n",
       "      <td>discount</td>\n",
       "      <td>2</td>\n",
       "    </tr>\n",
       "    <tr>\n",
       "      <th>7</th>\n",
       "      <td>[email, mobile, social]</td>\n",
       "      <td>0</td>\n",
       "      <td>3</td>\n",
       "      <td>5a8bc65990b245e5a138643cd4eb9837</td>\n",
       "      <td>informational</td>\n",
       "      <td>0</td>\n",
       "    </tr>\n",
       "    <tr>\n",
       "      <th>8</th>\n",
       "      <td>[web, email, mobile, social]</td>\n",
       "      <td>5</td>\n",
       "      <td>5</td>\n",
       "      <td>f19421c1d4aa40978ebb69ca19b0e20d</td>\n",
       "      <td>bogo</td>\n",
       "      <td>5</td>\n",
       "    </tr>\n",
       "    <tr>\n",
       "      <th>9</th>\n",
       "      <td>[web, email, mobile]</td>\n",
       "      <td>10</td>\n",
       "      <td>7</td>\n",
       "      <td>2906b810c7d4411798c6938adc9daaa5</td>\n",
       "      <td>discount</td>\n",
       "      <td>2</td>\n",
       "    </tr>\n",
       "  </tbody>\n",
       "</table>\n",
       "</div>"
      ],
      "text/plain": [
       "                       channels  difficulty  duration  \\\n",
       "0       [email, mobile, social]          10         7   \n",
       "1  [web, email, mobile, social]          10         5   \n",
       "2          [web, email, mobile]           0         4   \n",
       "3          [web, email, mobile]           5         7   \n",
       "4                  [web, email]          20        10   \n",
       "5  [web, email, mobile, social]           7         7   \n",
       "6  [web, email, mobile, social]          10        10   \n",
       "7       [email, mobile, social]           0         3   \n",
       "8  [web, email, mobile, social]           5         5   \n",
       "9          [web, email, mobile]          10         7   \n",
       "\n",
       "                                 id     offer_type  reward  \n",
       "0  ae264e3637204a6fb9bb56bc8210ddfd           bogo      10  \n",
       "1  4d5c57ea9a6940dd891ad53e9dbe8da0           bogo      10  \n",
       "2  3f207df678b143eea3cee63160fa8bed  informational       0  \n",
       "3  9b98b8c7a33c4b65b9aebfe6a799e6d9           bogo       5  \n",
       "4  0b1e1539f2cc45b7b9fa7c272da2e1d7       discount       5  \n",
       "5  2298d6c36e964ae4a3e7e9706d1fb8c2       discount       3  \n",
       "6  fafdcd668e3743c1bb461111dcafc2a4       discount       2  \n",
       "7  5a8bc65990b245e5a138643cd4eb9837  informational       0  \n",
       "8  f19421c1d4aa40978ebb69ca19b0e20d           bogo       5  \n",
       "9  2906b810c7d4411798c6938adc9daaa5       discount       2  "
      ]
     },
     "execution_count": 2,
     "metadata": {},
     "output_type": "execute_result"
    }
   ],
   "source": [
    "portfolio.head(10)"
   ]
  },
  {
   "cell_type": "markdown",
   "metadata": {},
   "source": [
    "### Data Shape"
   ]
  },
  {
   "cell_type": "code",
   "execution_count": 3,
   "metadata": {
    "scrolled": true
   },
   "outputs": [
    {
     "data": {
      "text/plain": [
       "(10, 6)"
      ]
     },
     "execution_count": 3,
     "metadata": {},
     "output_type": "execute_result"
    }
   ],
   "source": [
    "portfolio.shape # Show the shape of the dataset"
   ]
  },
  {
   "cell_type": "markdown",
   "metadata": {},
   "source": [
    "### Data Types"
   ]
  },
  {
   "cell_type": "code",
   "execution_count": 4,
   "metadata": {
    "scrolled": true
   },
   "outputs": [
    {
     "name": "stdout",
     "output_type": "stream",
     "text": [
      "<class 'pandas.core.frame.DataFrame'>\n",
      "RangeIndex: 10 entries, 0 to 9\n",
      "Data columns (total 6 columns):\n",
      "channels      10 non-null object\n",
      "difficulty    10 non-null int64\n",
      "duration      10 non-null int64\n",
      "id            10 non-null object\n",
      "offer_type    10 non-null object\n",
      "reward        10 non-null int64\n",
      "dtypes: int64(3), object(3)\n",
      "memory usage: 560.0+ bytes\n"
     ]
    }
   ],
   "source": [
    "portfolio.info() # Show the data_types of features "
   ]
  },
  {
   "cell_type": "markdown",
   "metadata": {},
   "source": [
    "### Data Completeness"
   ]
  },
  {
   "cell_type": "code",
   "execution_count": 5,
   "metadata": {
    "scrolled": false
   },
   "outputs": [
    {
     "data": {
      "text/plain": [
       "channels      0\n",
       "difficulty    0\n",
       "duration      0\n",
       "id            0\n",
       "offer_type    0\n",
       "reward        0\n",
       "dtype: int64"
      ]
     },
     "execution_count": 5,
     "metadata": {},
     "output_type": "execute_result"
    }
   ],
   "source": [
    "portfolio.isna().sum()"
   ]
  },
  {
   "cell_type": "markdown",
   "metadata": {},
   "source": [
    "There no missing value is portfolio dataset."
   ]
  },
  {
   "cell_type": "markdown",
   "metadata": {},
   "source": [
    "### Descriptive Statistics"
   ]
  },
  {
   "cell_type": "code",
   "execution_count": 6,
   "metadata": {
    "scrolled": true
   },
   "outputs": [
    {
     "data": {
      "text/html": [
       "<div>\n",
       "<style scoped>\n",
       "    .dataframe tbody tr th:only-of-type {\n",
       "        vertical-align: middle;\n",
       "    }\n",
       "\n",
       "    .dataframe tbody tr th {\n",
       "        vertical-align: top;\n",
       "    }\n",
       "\n",
       "    .dataframe thead th {\n",
       "        text-align: right;\n",
       "    }\n",
       "</style>\n",
       "<table border=\"1\" class=\"dataframe\">\n",
       "  <thead>\n",
       "    <tr style=\"text-align: right;\">\n",
       "      <th></th>\n",
       "      <th>count</th>\n",
       "      <th>mean</th>\n",
       "      <th>std</th>\n",
       "      <th>min</th>\n",
       "      <th>25%</th>\n",
       "      <th>50%</th>\n",
       "      <th>75%</th>\n",
       "      <th>max</th>\n",
       "    </tr>\n",
       "  </thead>\n",
       "  <tbody>\n",
       "    <tr>\n",
       "      <th>difficulty</th>\n",
       "      <td>10.0</td>\n",
       "      <td>8.0</td>\n",
       "      <td>6.0</td>\n",
       "      <td>0.0</td>\n",
       "      <td>5.0</td>\n",
       "      <td>8.0</td>\n",
       "      <td>10.0</td>\n",
       "      <td>20.0</td>\n",
       "    </tr>\n",
       "    <tr>\n",
       "      <th>duration</th>\n",
       "      <td>10.0</td>\n",
       "      <td>6.0</td>\n",
       "      <td>2.0</td>\n",
       "      <td>3.0</td>\n",
       "      <td>5.0</td>\n",
       "      <td>7.0</td>\n",
       "      <td>7.0</td>\n",
       "      <td>10.0</td>\n",
       "    </tr>\n",
       "    <tr>\n",
       "      <th>reward</th>\n",
       "      <td>10.0</td>\n",
       "      <td>4.0</td>\n",
       "      <td>4.0</td>\n",
       "      <td>0.0</td>\n",
       "      <td>2.0</td>\n",
       "      <td>4.0</td>\n",
       "      <td>5.0</td>\n",
       "      <td>10.0</td>\n",
       "    </tr>\n",
       "  </tbody>\n",
       "</table>\n",
       "</div>"
      ],
      "text/plain": [
       "            count  mean  std  min  25%  50%   75%   max\n",
       "difficulty   10.0   8.0  6.0  0.0  5.0  8.0  10.0  20.0\n",
       "duration     10.0   6.0  2.0  3.0  5.0  7.0   7.0  10.0\n",
       "reward       10.0   4.0  4.0  0.0  2.0  4.0   5.0  10.0"
      ]
     },
     "execution_count": 6,
     "metadata": {},
     "output_type": "execute_result"
    }
   ],
   "source": [
    "portfolio.describe().round().T # Summary Statistics"
   ]
  },
  {
   "cell_type": "markdown",
   "metadata": {},
   "source": [
    "### Data cleaning, Preprocessing, and feature extraction"
   ]
  },
  {
   "cell_type": "markdown",
   "metadata": {},
   "source": [
    "The cleaning and preprocessing of portfolio is performed as follow :\n",
    "- Change the names of id to be more readable.\n",
    "- The channels columns require to be one-hot encoded.\n",
    "- Add offer name rather than only using offer ids for interpretation later on. The offer will be named as offer_number. For example, offer_1 means offer type of bogo with difficulty of 10 ,reward of 10 dollars ,reward of 10 dollars and duration for 7 days."
   ]
  },
  {
   "cell_type": "code",
   "execution_count": 7,
   "metadata": {},
   "outputs": [],
   "source": [
    "# Change the names of id to be more readable \n",
    "id = {'ae264e3637204a6fb9bb56bc8210ddfd': 'BOGO_1','4d5c57ea9a6940dd891ad53e9dbe8da0': 'BOGO_2',\n",
    "      '9b98b8c7a33c4b65b9aebfe6a799e6d9': 'BOGO_3','f19421c1d4aa40978ebb69ca19b0e20d': 'BOGO_4',\n",
    "      '0b1e1539f2cc45b7b9fa7c272da2e1d7': 'Discount_1','2298d6c36e964ae4a3e7e9706d1fb8c2': 'Discount-2',\n",
    "      'fafdcd668e3743c1bb461111dcafc2a4': 'Discount_3','2906b810c7d4411798c6938adc9daaa5': 'Discount_4',\n",
    "      '3f207df678b143eea3cee63160fa8bed': 'Info_1','5a8bc65990b245e5a138643cd4eb9837': 'info_2'}\n",
    "portfolio.id = portfolio.id.apply(lambda x: id[x] if x else None)"
   ]
  },
  {
   "cell_type": "code",
   "execution_count": 8,
   "metadata": {},
   "outputs": [
    {
     "data": {
      "text/plain": [
       "{'email', 'mobile', 'social', 'web'}"
      ]
     },
     "execution_count": 8,
     "metadata": {},
     "output_type": "execute_result"
    }
   ],
   "source": [
    "# Extract names in channel \n",
    "channel_names = set() \n",
    "for channel in portfolio.channels:\n",
    "    channel_names.update(channel)\n",
    "channel_names "
   ]
  },
  {
   "cell_type": "code",
   "execution_count": 9,
   "metadata": {},
   "outputs": [],
   "source": [
    "for channel in channel_names:\n",
    "    portfolio[channel]=[int (channel in x) for x in portfolio.channels]"
   ]
  },
  {
   "cell_type": "code",
   "execution_count": 10,
   "metadata": {
    "scrolled": false
   },
   "outputs": [],
   "source": [
    "portfolio.drop('channels', inplace=True, axis=1) # drop the channels column"
   ]
  },
  {
   "cell_type": "code",
   "execution_count": 11,
   "metadata": {
    "scrolled": false
   },
   "outputs": [],
   "source": [
    "portfolio['offer_Number']=[\"offer_\"+ str(i) for i in range(1,portfolio.shape[0]+1)] # Add the offer_Number column  "
   ]
  },
  {
   "cell_type": "code",
   "execution_count": 12,
   "metadata": {},
   "outputs": [
    {
     "data": {
      "text/html": [
       "<div>\n",
       "<style scoped>\n",
       "    .dataframe tbody tr th:only-of-type {\n",
       "        vertical-align: middle;\n",
       "    }\n",
       "\n",
       "    .dataframe tbody tr th {\n",
       "        vertical-align: top;\n",
       "    }\n",
       "\n",
       "    .dataframe thead th {\n",
       "        text-align: right;\n",
       "    }\n",
       "</style>\n",
       "<table border=\"1\" class=\"dataframe\">\n",
       "  <thead>\n",
       "    <tr style=\"text-align: right;\">\n",
       "      <th></th>\n",
       "      <th>difficulty</th>\n",
       "      <th>duration</th>\n",
       "      <th>id</th>\n",
       "      <th>offer_type</th>\n",
       "      <th>reward</th>\n",
       "      <th>social</th>\n",
       "      <th>web</th>\n",
       "      <th>mobile</th>\n",
       "      <th>email</th>\n",
       "      <th>offer_Number</th>\n",
       "    </tr>\n",
       "  </thead>\n",
       "  <tbody>\n",
       "    <tr>\n",
       "      <th>0</th>\n",
       "      <td>10</td>\n",
       "      <td>7</td>\n",
       "      <td>BOGO_1</td>\n",
       "      <td>bogo</td>\n",
       "      <td>10</td>\n",
       "      <td>1</td>\n",
       "      <td>0</td>\n",
       "      <td>1</td>\n",
       "      <td>1</td>\n",
       "      <td>offer_1</td>\n",
       "    </tr>\n",
       "    <tr>\n",
       "      <th>1</th>\n",
       "      <td>10</td>\n",
       "      <td>5</td>\n",
       "      <td>BOGO_2</td>\n",
       "      <td>bogo</td>\n",
       "      <td>10</td>\n",
       "      <td>1</td>\n",
       "      <td>1</td>\n",
       "      <td>1</td>\n",
       "      <td>1</td>\n",
       "      <td>offer_2</td>\n",
       "    </tr>\n",
       "    <tr>\n",
       "      <th>2</th>\n",
       "      <td>0</td>\n",
       "      <td>4</td>\n",
       "      <td>Info_1</td>\n",
       "      <td>informational</td>\n",
       "      <td>0</td>\n",
       "      <td>0</td>\n",
       "      <td>1</td>\n",
       "      <td>1</td>\n",
       "      <td>1</td>\n",
       "      <td>offer_3</td>\n",
       "    </tr>\n",
       "    <tr>\n",
       "      <th>3</th>\n",
       "      <td>5</td>\n",
       "      <td>7</td>\n",
       "      <td>BOGO_3</td>\n",
       "      <td>bogo</td>\n",
       "      <td>5</td>\n",
       "      <td>0</td>\n",
       "      <td>1</td>\n",
       "      <td>1</td>\n",
       "      <td>1</td>\n",
       "      <td>offer_4</td>\n",
       "    </tr>\n",
       "    <tr>\n",
       "      <th>4</th>\n",
       "      <td>20</td>\n",
       "      <td>10</td>\n",
       "      <td>Discount_1</td>\n",
       "      <td>discount</td>\n",
       "      <td>5</td>\n",
       "      <td>0</td>\n",
       "      <td>1</td>\n",
       "      <td>0</td>\n",
       "      <td>1</td>\n",
       "      <td>offer_5</td>\n",
       "    </tr>\n",
       "    <tr>\n",
       "      <th>5</th>\n",
       "      <td>7</td>\n",
       "      <td>7</td>\n",
       "      <td>Discount-2</td>\n",
       "      <td>discount</td>\n",
       "      <td>3</td>\n",
       "      <td>1</td>\n",
       "      <td>1</td>\n",
       "      <td>1</td>\n",
       "      <td>1</td>\n",
       "      <td>offer_6</td>\n",
       "    </tr>\n",
       "    <tr>\n",
       "      <th>6</th>\n",
       "      <td>10</td>\n",
       "      <td>10</td>\n",
       "      <td>Discount_3</td>\n",
       "      <td>discount</td>\n",
       "      <td>2</td>\n",
       "      <td>1</td>\n",
       "      <td>1</td>\n",
       "      <td>1</td>\n",
       "      <td>1</td>\n",
       "      <td>offer_7</td>\n",
       "    </tr>\n",
       "    <tr>\n",
       "      <th>7</th>\n",
       "      <td>0</td>\n",
       "      <td>3</td>\n",
       "      <td>info_2</td>\n",
       "      <td>informational</td>\n",
       "      <td>0</td>\n",
       "      <td>1</td>\n",
       "      <td>0</td>\n",
       "      <td>1</td>\n",
       "      <td>1</td>\n",
       "      <td>offer_8</td>\n",
       "    </tr>\n",
       "    <tr>\n",
       "      <th>8</th>\n",
       "      <td>5</td>\n",
       "      <td>5</td>\n",
       "      <td>BOGO_4</td>\n",
       "      <td>bogo</td>\n",
       "      <td>5</td>\n",
       "      <td>1</td>\n",
       "      <td>1</td>\n",
       "      <td>1</td>\n",
       "      <td>1</td>\n",
       "      <td>offer_9</td>\n",
       "    </tr>\n",
       "    <tr>\n",
       "      <th>9</th>\n",
       "      <td>10</td>\n",
       "      <td>7</td>\n",
       "      <td>Discount_4</td>\n",
       "      <td>discount</td>\n",
       "      <td>2</td>\n",
       "      <td>0</td>\n",
       "      <td>1</td>\n",
       "      <td>1</td>\n",
       "      <td>1</td>\n",
       "      <td>offer_10</td>\n",
       "    </tr>\n",
       "  </tbody>\n",
       "</table>\n",
       "</div>"
      ],
      "text/plain": [
       "   difficulty  duration          id     offer_type  reward  social  web  \\\n",
       "0          10         7      BOGO_1           bogo      10       1    0   \n",
       "1          10         5      BOGO_2           bogo      10       1    1   \n",
       "2           0         4      Info_1  informational       0       0    1   \n",
       "3           5         7      BOGO_3           bogo       5       0    1   \n",
       "4          20        10  Discount_1       discount       5       0    1   \n",
       "5           7         7  Discount-2       discount       3       1    1   \n",
       "6          10        10  Discount_3       discount       2       1    1   \n",
       "7           0         3      info_2  informational       0       1    0   \n",
       "8           5         5      BOGO_4           bogo       5       1    1   \n",
       "9          10         7  Discount_4       discount       2       0    1   \n",
       "\n",
       "   mobile  email offer_Number  \n",
       "0       1      1      offer_1  \n",
       "1       1      1      offer_2  \n",
       "2       1      1      offer_3  \n",
       "3       1      1      offer_4  \n",
       "4       0      1      offer_5  \n",
       "5       1      1      offer_6  \n",
       "6       1      1      offer_7  \n",
       "7       1      1      offer_8  \n",
       "8       1      1      offer_9  \n",
       "9       1      1     offer_10  "
      ]
     },
     "execution_count": 12,
     "metadata": {},
     "output_type": "execute_result"
    }
   ],
   "source": [
    "portfolio.head(10) "
   ]
  },
  {
   "cell_type": "code",
   "execution_count": 13,
   "metadata": {
    "scrolled": false
   },
   "outputs": [
    {
     "data": {
      "text/plain": [
       "email     10\n",
       "mobile     9\n",
       "social     6\n",
       "web        8\n",
       "dtype: int64"
      ]
     },
     "execution_count": 13,
     "metadata": {},
     "output_type": "execute_result"
    }
   ],
   "source": [
    "# sum for each channel columns\n",
    "portfolio[['email','mobile','social','web']].sum() "
   ]
  },
  {
   "cell_type": "markdown",
   "metadata": {},
   "source": [
    "Most of channels are used are email then followed by mobile. However, the email was used in all offer type."
   ]
  },
  {
   "cell_type": "code",
   "execution_count": 14,
   "metadata": {
    "scrolled": false
   },
   "outputs": [
    {
     "data": {
      "text/plain": [
       "<matplotlib.axes._subplots.AxesSubplot at 0x7f7a18dd0b00>"
      ]
     },
     "execution_count": 14,
     "metadata": {},
     "output_type": "execute_result"
    },
    {
     "data": {
      "image/png": "[encoded data removed]",
      "text/plain": [
       "<matplotlib.figure.Figure at 0x7f7a18dd0fd0>"
      ]
     },
     "metadata": {
      "needs_background": "light"
     },
     "output_type": "display_data"
    }
   ],
   "source": [
    "portfolio.offer_type.value_counts().plot(kind='bar')"
   ]
  },
  {
   "cell_type": "markdown",
   "metadata": {},
   "source": [
    "We can see from the above graph that BOGOs and discounts are the most common types of offers"
   ]
  },
  {
   "cell_type": "markdown",
   "metadata": {},
   "source": [
    "### 1.2 profile Dataset"
   ]
  },
  {
   "cell_type": "markdown",
   "metadata": {},
   "source": [
    "### Show Data"
   ]
  },
  {
   "cell_type": "code",
   "execution_count": 15,
   "metadata": {
    "scrolled": false
   },
   "outputs": [
    {
     "data": {
      "text/html": [
       "<div>\n",
       "<style scoped>\n",
       "    .dataframe tbody tr th:only-of-type {\n",
       "        vertical-align: middle;\n",
       "    }\n",
       "\n",
       "    .dataframe tbody tr th {\n",
       "        vertical-align: top;\n",
       "    }\n",
       "\n",
       "    .dataframe thead th {\n",
       "        text-align: right;\n",
       "    }\n",
       "</style>\n",
       "<table border=\"1\" class=\"dataframe\">\n",
       "  <thead>\n",
       "    <tr style=\"text-align: right;\">\n",
       "      <th></th>\n",
       "      <th>age</th>\n",
       "      <th>became_member_on</th>\n",
       "      <th>gender</th>\n",
       "      <th>id</th>\n",
       "      <th>income</th>\n",
       "    </tr>\n",
       "  </thead>\n",
       "  <tbody>\n",
       "    <tr>\n",
       "      <th>0</th>\n",
       "      <td>118</td>\n",
       "      <td>20170212</td>\n",
       "      <td>None</td>\n",
       "      <td>68be06ca386d4c31939f3a4f0e3dd783</td>\n",
       "      <td>NaN</td>\n",
       "    </tr>\n",
       "    <tr>\n",
       "      <th>1</th>\n",
       "      <td>55</td>\n",
       "      <td>20170715</td>\n",
       "      <td>F</td>\n",
       "      <td>0610b486422d4921ae7d2bf64640c50b</td>\n",
       "      <td>112000.0</td>\n",
       "    </tr>\n",
       "    <tr>\n",
       "      <th>2</th>\n",
       "      <td>118</td>\n",
       "      <td>20180712</td>\n",
       "      <td>None</td>\n",
       "      <td>38fe809add3b4fcf9315a9694bb96ff5</td>\n",
       "      <td>NaN</td>\n",
       "    </tr>\n",
       "    <tr>\n",
       "      <th>3</th>\n",
       "      <td>75</td>\n",
       "      <td>20170509</td>\n",
       "      <td>F</td>\n",
       "      <td>78afa995795e4d85b5d9ceeca43f5fef</td>\n",
       "      <td>100000.0</td>\n",
       "    </tr>\n",
       "    <tr>\n",
       "      <th>4</th>\n",
       "      <td>118</td>\n",
       "      <td>20170804</td>\n",
       "      <td>None</td>\n",
       "      <td>a03223e636434f42ac4c3df47e8bac43</td>\n",
       "      <td>NaN</td>\n",
       "    </tr>\n",
       "  </tbody>\n",
       "</table>\n",
       "</div>"
      ],
      "text/plain": [
       "   age  became_member_on gender                                id    income\n",
       "0  118          20170212   None  68be06ca386d4c31939f3a4f0e3dd783       NaN\n",
       "1   55          20170715      F  0610b486422d4921ae7d2bf64640c50b  112000.0\n",
       "2  118          20180712   None  38fe809add3b4fcf9315a9694bb96ff5       NaN\n",
       "3   75          20170509      F  78afa995795e4d85b5d9ceeca43f5fef  100000.0\n",
       "4  118          20170804   None  a03223e636434f42ac4c3df47e8bac43       NaN"
      ]
     },
     "execution_count": 15,
     "metadata": {},
     "output_type": "execute_result"
    }
   ],
   "source": [
    "profile.head()"
   ]
  },
  {
   "cell_type": "markdown",
   "metadata": {},
   "source": [
    "### Data Shape"
   ]
  },
  {
   "cell_type": "code",
   "execution_count": 16,
   "metadata": {},
   "outputs": [
    {
     "data": {
      "text/plain": [
       "(17000, 5)"
      ]
     },
     "execution_count": 16,
     "metadata": {},
     "output_type": "execute_result"
    }
   ],
   "source": [
    "profile.shape # Show the shape of the dataset"
   ]
  },
  {
   "cell_type": "markdown",
   "metadata": {},
   "source": [
    "### Data Types"
   ]
  },
  {
   "cell_type": "code",
   "execution_count": 17,
   "metadata": {},
   "outputs": [
    {
     "name": "stdout",
     "output_type": "stream",
     "text": [
      "<class 'pandas.core.frame.DataFrame'>\n",
      "RangeIndex: 17000 entries, 0 to 16999\n",
      "Data columns (total 5 columns):\n",
      "age                 17000 non-null int64\n",
      "became_member_on    17000 non-null int64\n",
      "gender              14825 non-null object\n",
      "id                  17000 non-null object\n",
      "income              14825 non-null float64\n",
      "dtypes: float64(1), int64(2), object(2)\n",
      "memory usage: 664.1+ KB\n"
     ]
    }
   ],
   "source": [
    "profile.info() # Show the data_types of features"
   ]
  },
  {
   "cell_type": "markdown",
   "metadata": {},
   "source": [
    "### Data Completeness"
   ]
  },
  {
   "cell_type": "code",
   "execution_count": 18,
   "metadata": {
    "scrolled": true
   },
   "outputs": [
    {
     "data": {
      "text/plain": [
       "age                    0\n",
       "became_member_on       0\n",
       "gender              2175\n",
       "id                     0\n",
       "income              2175\n",
       "dtype: int64"
      ]
     },
     "execution_count": 18,
     "metadata": {},
     "output_type": "execute_result"
    }
   ],
   "source": [
    "profile.isna().sum()"
   ]
  },
  {
   "cell_type": "markdown",
   "metadata": {},
   "source": [
    "There is a big missing value in dataset"
   ]
  },
  {
   "cell_type": "code",
   "execution_count": 19,
   "metadata": {},
   "outputs": [
    {
     "name": "stdout",
     "output_type": "stream",
     "text": [
      "There are 17000 Customers in our dataset\n"
     ]
    }
   ],
   "source": [
    "print(\"There are\",profile['id'].nunique(),\"Customers in our dataset\")"
   ]
  },
  {
   "cell_type": "markdown",
   "metadata": {},
   "source": [
    "### Descriptive Statistics"
   ]
  },
  {
   "cell_type": "code",
   "execution_count": 20,
   "metadata": {},
   "outputs": [
    {
     "data": {
      "text/html": [
       "<div>\n",
       "<style scoped>\n",
       "    .dataframe tbody tr th:only-of-type {\n",
       "        vertical-align: middle;\n",
       "    }\n",
       "\n",
       "    .dataframe tbody tr th {\n",
       "        vertical-align: top;\n",
       "    }\n",
       "\n",
       "    .dataframe thead th {\n",
       "        text-align: right;\n",
       "    }\n",
       "</style>\n",
       "<table border=\"1\" class=\"dataframe\">\n",
       "  <thead>\n",
       "    <tr style=\"text-align: right;\">\n",
       "      <th></th>\n",
       "      <th>count</th>\n",
       "      <th>mean</th>\n",
       "      <th>std</th>\n",
       "      <th>min</th>\n",
       "      <th>25%</th>\n",
       "      <th>50%</th>\n",
       "      <th>75%</th>\n",
       "      <th>max</th>\n",
       "    </tr>\n",
       "  </thead>\n",
       "  <tbody>\n",
       "    <tr>\n",
       "      <th>age</th>\n",
       "      <td>17000.0</td>\n",
       "      <td>63.0</td>\n",
       "      <td>27.0</td>\n",
       "      <td>18.0</td>\n",
       "      <td>45.0</td>\n",
       "      <td>58.0</td>\n",
       "      <td>73.0</td>\n",
       "      <td>118.0</td>\n",
       "    </tr>\n",
       "    <tr>\n",
       "      <th>became_member_on</th>\n",
       "      <td>17000.0</td>\n",
       "      <td>20167034.0</td>\n",
       "      <td>11677.0</td>\n",
       "      <td>20130729.0</td>\n",
       "      <td>20160526.0</td>\n",
       "      <td>20170802.0</td>\n",
       "      <td>20171230.0</td>\n",
       "      <td>20180726.0</td>\n",
       "    </tr>\n",
       "    <tr>\n",
       "      <th>income</th>\n",
       "      <td>14825.0</td>\n",
       "      <td>65405.0</td>\n",
       "      <td>21598.0</td>\n",
       "      <td>30000.0</td>\n",
       "      <td>49000.0</td>\n",
       "      <td>64000.0</td>\n",
       "      <td>80000.0</td>\n",
       "      <td>120000.0</td>\n",
       "    </tr>\n",
       "  </tbody>\n",
       "</table>\n",
       "</div>"
      ],
      "text/plain": [
       "                    count        mean      std         min         25%  \\\n",
       "age               17000.0        63.0     27.0        18.0        45.0   \n",
       "became_member_on  17000.0  20167034.0  11677.0  20130729.0  20160526.0   \n",
       "income            14825.0     65405.0  21598.0     30000.0     49000.0   \n",
       "\n",
       "                         50%         75%         max  \n",
       "age                     58.0        73.0       118.0  \n",
       "became_member_on  20170802.0  20171230.0  20180726.0  \n",
       "income               64000.0     80000.0    120000.0  "
      ]
     },
     "execution_count": 20,
     "metadata": {},
     "output_type": "execute_result"
    }
   ],
   "source": [
    "profile.describe().round().T # Summary Statistics"
   ]
  },
  {
   "cell_type": "markdown",
   "metadata": {},
   "source": [
    "### Data cleaning, Preprocessing, and feature extraction"
   ]
  },
  {
   "cell_type": "markdown",
   "metadata": {},
   "source": [
    "The cleaning and preprocessing of Profile is performed as follow :\n",
    "- dropped all ages where value 118 because when the age == 118 the  income and gender are missing values .\n",
    "- transformed the became_member_on column to a datetime object. \n",
    "- The gender columns require to be one-hot encoded.\n",
    "- one hot encoded a customer’s age range.\n",
    "- one hot encoded a customer’s income range. \n"
   ]
  },
  {
   "cell_type": "code",
   "execution_count": 21,
   "metadata": {},
   "outputs": [],
   "source": [
    "profile['male'] = profile.gender.apply(lambda x: 1 if x == 'M' else 0) \n",
    "profile['female'] = profile.gender.apply(lambda x: 1 if x == 'F' else 0)"
   ]
  },
  {
   "cell_type": "code",
   "execution_count": 22,
   "metadata": {
    "scrolled": true
   },
   "outputs": [
    {
     "data": {
      "text/plain": [
       "118    2175\n",
       "58      408\n",
       "53      372\n",
       "51      363\n",
       "54      359\n",
       "59      359\n",
       "57      353\n",
       "52      351\n",
       "55      350\n",
       "56      342\n",
       "63      338\n",
       "60      333\n",
       "49      321\n",
       "62      318\n",
       "67      317\n",
       "64      311\n",
       "61      309\n",
       "48      288\n",
       "50      284\n",
       "66      284\n",
       "65      280\n",
       "68      259\n",
       "70      252\n",
       "69      242\n",
       "47      232\n",
       "45      231\n",
       "71      230\n",
       "42      227\n",
       "43      215\n",
       "46      212\n",
       "       ... \n",
       "22      131\n",
       "30      131\n",
       "29      129\n",
       "23      126\n",
       "81      118\n",
       "35      118\n",
       "79      117\n",
       "80      116\n",
       "31      113\n",
       "82      105\n",
       "83      102\n",
       "84       83\n",
       "18       70\n",
       "85       70\n",
       "87       66\n",
       "88       64\n",
       "86       54\n",
       "89       53\n",
       "90       52\n",
       "91       47\n",
       "92       40\n",
       "94       33\n",
       "93       29\n",
       "95       22\n",
       "97       13\n",
       "100      12\n",
       "96        8\n",
       "98        5\n",
       "99        5\n",
       "101       5\n",
       "Name: age, Length: 85, dtype: int64"
      ]
     },
     "execution_count": 22,
     "metadata": {},
     "output_type": "execute_result"
    }
   ],
   "source": [
    "profile['age'].value_counts()"
   ]
  },
  {
   "cell_type": "code",
   "execution_count": 23,
   "metadata": {
    "scrolled": true
   },
   "outputs": [
    {
     "data": {
      "text/html": [
       "<div>\n",
       "<style scoped>\n",
       "    .dataframe tbody tr th:only-of-type {\n",
       "        vertical-align: middle;\n",
       "    }\n",
       "\n",
       "    .dataframe tbody tr th {\n",
       "        vertical-align: top;\n",
       "    }\n",
       "\n",
       "    .dataframe thead th {\n",
       "        text-align: right;\n",
       "    }\n",
       "</style>\n",
       "<table border=\"1\" class=\"dataframe\">\n",
       "  <thead>\n",
       "    <tr style=\"text-align: right;\">\n",
       "      <th></th>\n",
       "      <th>age</th>\n",
       "      <th>became_member_on</th>\n",
       "      <th>gender</th>\n",
       "      <th>id</th>\n",
       "      <th>income</th>\n",
       "      <th>male</th>\n",
       "      <th>female</th>\n",
       "    </tr>\n",
       "  </thead>\n",
       "  <tbody>\n",
       "    <tr>\n",
       "      <th>0</th>\n",
       "      <td>118</td>\n",
       "      <td>20170212</td>\n",
       "      <td>None</td>\n",
       "      <td>68be06ca386d4c31939f3a4f0e3dd783</td>\n",
       "      <td>NaN</td>\n",
       "      <td>0</td>\n",
       "      <td>0</td>\n",
       "    </tr>\n",
       "    <tr>\n",
       "      <th>2</th>\n",
       "      <td>118</td>\n",
       "      <td>20180712</td>\n",
       "      <td>None</td>\n",
       "      <td>38fe809add3b4fcf9315a9694bb96ff5</td>\n",
       "      <td>NaN</td>\n",
       "      <td>0</td>\n",
       "      <td>0</td>\n",
       "    </tr>\n",
       "    <tr>\n",
       "      <th>4</th>\n",
       "      <td>118</td>\n",
       "      <td>20170804</td>\n",
       "      <td>None</td>\n",
       "      <td>a03223e636434f42ac4c3df47e8bac43</td>\n",
       "      <td>NaN</td>\n",
       "      <td>0</td>\n",
       "      <td>0</td>\n",
       "    </tr>\n",
       "    <tr>\n",
       "      <th>6</th>\n",
       "      <td>118</td>\n",
       "      <td>20170925</td>\n",
       "      <td>None</td>\n",
       "      <td>8ec6ce2a7e7949b1bf142def7d0e0586</td>\n",
       "      <td>NaN</td>\n",
       "      <td>0</td>\n",
       "      <td>0</td>\n",
       "    </tr>\n",
       "    <tr>\n",
       "      <th>7</th>\n",
       "      <td>118</td>\n",
       "      <td>20171002</td>\n",
       "      <td>None</td>\n",
       "      <td>68617ca6246f4fbc85e91a2a49552598</td>\n",
       "      <td>NaN</td>\n",
       "      <td>0</td>\n",
       "      <td>0</td>\n",
       "    </tr>\n",
       "    <tr>\n",
       "      <th>9</th>\n",
       "      <td>118</td>\n",
       "      <td>20161122</td>\n",
       "      <td>None</td>\n",
       "      <td>8974fc5686fe429db53ddde067b88302</td>\n",
       "      <td>NaN</td>\n",
       "      <td>0</td>\n",
       "      <td>0</td>\n",
       "    </tr>\n",
       "    <tr>\n",
       "      <th>10</th>\n",
       "      <td>118</td>\n",
       "      <td>20170824</td>\n",
       "      <td>None</td>\n",
       "      <td>c4863c7985cf408faee930f111475da3</td>\n",
       "      <td>NaN</td>\n",
       "      <td>0</td>\n",
       "      <td>0</td>\n",
       "    </tr>\n",
       "    <tr>\n",
       "      <th>11</th>\n",
       "      <td>118</td>\n",
       "      <td>20150919</td>\n",
       "      <td>None</td>\n",
       "      <td>148adfcaa27d485b82f323aaaad036bd</td>\n",
       "      <td>NaN</td>\n",
       "      <td>0</td>\n",
       "      <td>0</td>\n",
       "    </tr>\n",
       "    <tr>\n",
       "      <th>17</th>\n",
       "      <td>118</td>\n",
       "      <td>20170801</td>\n",
       "      <td>None</td>\n",
       "      <td>744d603ef08c4f33af5a61c8c7628d1c</td>\n",
       "      <td>NaN</td>\n",
       "      <td>0</td>\n",
       "      <td>0</td>\n",
       "    </tr>\n",
       "    <tr>\n",
       "      <th>23</th>\n",
       "      <td>118</td>\n",
       "      <td>20170907</td>\n",
       "      <td>None</td>\n",
       "      <td>2b826eba31074a059d63b0ae8f50b7d5</td>\n",
       "      <td>NaN</td>\n",
       "      <td>0</td>\n",
       "      <td>0</td>\n",
       "    </tr>\n",
       "    <tr>\n",
       "      <th>26</th>\n",
       "      <td>118</td>\n",
       "      <td>20170330</td>\n",
       "      <td>None</td>\n",
       "      <td>65aba5c617294649aeb624da249e1ee5</td>\n",
       "      <td>NaN</td>\n",
       "      <td>0</td>\n",
       "      <td>0</td>\n",
       "    </tr>\n",
       "    <tr>\n",
       "      <th>36</th>\n",
       "      <td>118</td>\n",
       "      <td>20160707</td>\n",
       "      <td>None</td>\n",
       "      <td>4beeb3ed64dd4898b0edf2f6b67426d3</td>\n",
       "      <td>NaN</td>\n",
       "      <td>0</td>\n",
       "      <td>0</td>\n",
       "    </tr>\n",
       "    <tr>\n",
       "      <th>39</th>\n",
       "      <td>118</td>\n",
       "      <td>20180113</td>\n",
       "      <td>None</td>\n",
       "      <td>25c906289d154b66bf579693f89481c9</td>\n",
       "      <td>NaN</td>\n",
       "      <td>0</td>\n",
       "      <td>0</td>\n",
       "    </tr>\n",
       "    <tr>\n",
       "      <th>44</th>\n",
       "      <td>118</td>\n",
       "      <td>20141111</td>\n",
       "      <td>None</td>\n",
       "      <td>5b8f1f0e0930464f93bb55e59b5a04e0</td>\n",
       "      <td>NaN</td>\n",
       "      <td>0</td>\n",
       "      <td>0</td>\n",
       "    </tr>\n",
       "    <tr>\n",
       "      <th>45</th>\n",
       "      <td>118</td>\n",
       "      <td>20170511</td>\n",
       "      <td>None</td>\n",
       "      <td>8be4463721e14d7fa600686bf8c8b2ed</td>\n",
       "      <td>NaN</td>\n",
       "      <td>0</td>\n",
       "      <td>0</td>\n",
       "    </tr>\n",
       "    <tr>\n",
       "      <th>54</th>\n",
       "      <td>118</td>\n",
       "      <td>20170528</td>\n",
       "      <td>None</td>\n",
       "      <td>81ac76e4f2fe4a6bb5ebdc0f19cecc56</td>\n",
       "      <td>NaN</td>\n",
       "      <td>0</td>\n",
       "      <td>0</td>\n",
       "    </tr>\n",
       "    <tr>\n",
       "      <th>56</th>\n",
       "      <td>118</td>\n",
       "      <td>20171013</td>\n",
       "      <td>None</td>\n",
       "      <td>020d3a52b9ce432ea5f98fc58e9bfcc4</td>\n",
       "      <td>NaN</td>\n",
       "      <td>0</td>\n",
       "      <td>0</td>\n",
       "    </tr>\n",
       "    <tr>\n",
       "      <th>57</th>\n",
       "      <td>118</td>\n",
       "      <td>20151220</td>\n",
       "      <td>None</td>\n",
       "      <td>4be1127413db496d8103c783ae72058b</td>\n",
       "      <td>NaN</td>\n",
       "      <td>0</td>\n",
       "      <td>0</td>\n",
       "    </tr>\n",
       "    <tr>\n",
       "      <th>80</th>\n",
       "      <td>118</td>\n",
       "      <td>20170918</td>\n",
       "      <td>None</td>\n",
       "      <td>9d8d6bb2fc544a9c802888971ee3e8b1</td>\n",
       "      <td>NaN</td>\n",
       "      <td>0</td>\n",
       "      <td>0</td>\n",
       "    </tr>\n",
       "    <tr>\n",
       "      <th>84</th>\n",
       "      <td>118</td>\n",
       "      <td>20150920</td>\n",
       "      <td>None</td>\n",
       "      <td>a89752cdfdf24779aa22faa2bc24e7c2</td>\n",
       "      <td>NaN</td>\n",
       "      <td>0</td>\n",
       "      <td>0</td>\n",
       "    </tr>\n",
       "    <tr>\n",
       "      <th>96</th>\n",
       "      <td>118</td>\n",
       "      <td>20160806</td>\n",
       "      <td>None</td>\n",
       "      <td>53bac762af27471eb294ff89ca1bae2c</td>\n",
       "      <td>NaN</td>\n",
       "      <td>0</td>\n",
       "      <td>0</td>\n",
       "    </tr>\n",
       "    <tr>\n",
       "      <th>103</th>\n",
       "      <td>118</td>\n",
       "      <td>20170223</td>\n",
       "      <td>None</td>\n",
       "      <td>488773cae11f4b71875bfccd4e3e99f2</td>\n",
       "      <td>NaN</td>\n",
       "      <td>0</td>\n",
       "      <td>0</td>\n",
       "    </tr>\n",
       "    <tr>\n",
       "      <th>104</th>\n",
       "      <td>118</td>\n",
       "      <td>20170823</td>\n",
       "      <td>None</td>\n",
       "      <td>182e68952b474700b171e21b85c258ac</td>\n",
       "      <td>NaN</td>\n",
       "      <td>0</td>\n",
       "      <td>0</td>\n",
       "    </tr>\n",
       "    <tr>\n",
       "      <th>108</th>\n",
       "      <td>118</td>\n",
       "      <td>20160130</td>\n",
       "      <td>None</td>\n",
       "      <td>5e9c83e8ab4d4e9ca83f3256d83ca756</td>\n",
       "      <td>NaN</td>\n",
       "      <td>0</td>\n",
       "      <td>0</td>\n",
       "    </tr>\n",
       "    <tr>\n",
       "      <th>121</th>\n",
       "      <td>118</td>\n",
       "      <td>20150730</td>\n",
       "      <td>None</td>\n",
       "      <td>c099206f76b1414db7552f163520053c</td>\n",
       "      <td>NaN</td>\n",
       "      <td>0</td>\n",
       "      <td>0</td>\n",
       "    </tr>\n",
       "    <tr>\n",
       "      <th>122</th>\n",
       "      <td>118</td>\n",
       "      <td>20171125</td>\n",
       "      <td>None</td>\n",
       "      <td>e6d3eebb535e44aca1323edde5c346fa</td>\n",
       "      <td>NaN</td>\n",
       "      <td>0</td>\n",
       "      <td>0</td>\n",
       "    </tr>\n",
       "    <tr>\n",
       "      <th>128</th>\n",
       "      <td>118</td>\n",
       "      <td>20160418</td>\n",
       "      <td>None</td>\n",
       "      <td>baba98dba43e42ae8e86cbd70725e201</td>\n",
       "      <td>NaN</td>\n",
       "      <td>0</td>\n",
       "      <td>0</td>\n",
       "    </tr>\n",
       "    <tr>\n",
       "      <th>143</th>\n",
       "      <td>118</td>\n",
       "      <td>20161018</td>\n",
       "      <td>None</td>\n",
       "      <td>58748c1cf9f746838c6ec62acdff28ad</td>\n",
       "      <td>NaN</td>\n",
       "      <td>0</td>\n",
       "      <td>0</td>\n",
       "    </tr>\n",
       "    <tr>\n",
       "      <th>169</th>\n",
       "      <td>118</td>\n",
       "      <td>20150905</td>\n",
       "      <td>None</td>\n",
       "      <td>770df32893694100afc703ea9c9df401</td>\n",
       "      <td>NaN</td>\n",
       "      <td>0</td>\n",
       "      <td>0</td>\n",
       "    </tr>\n",
       "    <tr>\n",
       "      <th>172</th>\n",
       "      <td>118</td>\n",
       "      <td>20180114</td>\n",
       "      <td>None</td>\n",
       "      <td>50b92ea51e2649dfbf7120d5e554e991</td>\n",
       "      <td>NaN</td>\n",
       "      <td>0</td>\n",
       "      <td>0</td>\n",
       "    </tr>\n",
       "    <tr>\n",
       "      <th>...</th>\n",
       "      <td>...</td>\n",
       "      <td>...</td>\n",
       "      <td>...</td>\n",
       "      <td>...</td>\n",
       "      <td>...</td>\n",
       "      <td>...</td>\n",
       "      <td>...</td>\n",
       "    </tr>\n",
       "    <tr>\n",
       "      <th>16820</th>\n",
       "      <td>118</td>\n",
       "      <td>20151015</td>\n",
       "      <td>None</td>\n",
       "      <td>64257cb56316491fae38e62f2687a66c</td>\n",
       "      <td>NaN</td>\n",
       "      <td>0</td>\n",
       "      <td>0</td>\n",
       "    </tr>\n",
       "    <tr>\n",
       "      <th>16829</th>\n",
       "      <td>118</td>\n",
       "      <td>20171007</td>\n",
       "      <td>None</td>\n",
       "      <td>56a0b671fa0347beb8b60011a15800aa</td>\n",
       "      <td>NaN</td>\n",
       "      <td>0</td>\n",
       "      <td>0</td>\n",
       "    </tr>\n",
       "    <tr>\n",
       "      <th>16831</th>\n",
       "      <td>118</td>\n",
       "      <td>20170910</td>\n",
       "      <td>None</td>\n",
       "      <td>060c0b9181674d03aa181b75353b9422</td>\n",
       "      <td>NaN</td>\n",
       "      <td>0</td>\n",
       "      <td>0</td>\n",
       "    </tr>\n",
       "    <tr>\n",
       "      <th>16835</th>\n",
       "      <td>118</td>\n",
       "      <td>20161211</td>\n",
       "      <td>None</td>\n",
       "      <td>587453e2944b4c6699519a217bf87de6</td>\n",
       "      <td>NaN</td>\n",
       "      <td>0</td>\n",
       "      <td>0</td>\n",
       "    </tr>\n",
       "    <tr>\n",
       "      <th>16839</th>\n",
       "      <td>118</td>\n",
       "      <td>20180626</td>\n",
       "      <td>None</td>\n",
       "      <td>d6063a30185b4e60b58a445bacec5f56</td>\n",
       "      <td>NaN</td>\n",
       "      <td>0</td>\n",
       "      <td>0</td>\n",
       "    </tr>\n",
       "    <tr>\n",
       "      <th>16842</th>\n",
       "      <td>118</td>\n",
       "      <td>20151110</td>\n",
       "      <td>None</td>\n",
       "      <td>a225189b10a141d5bb1ff0a05265da4c</td>\n",
       "      <td>NaN</td>\n",
       "      <td>0</td>\n",
       "      <td>0</td>\n",
       "    </tr>\n",
       "    <tr>\n",
       "      <th>16844</th>\n",
       "      <td>118</td>\n",
       "      <td>20170228</td>\n",
       "      <td>None</td>\n",
       "      <td>4342cb3414534aaca96ac523edc82654</td>\n",
       "      <td>NaN</td>\n",
       "      <td>0</td>\n",
       "      <td>0</td>\n",
       "    </tr>\n",
       "    <tr>\n",
       "      <th>16845</th>\n",
       "      <td>118</td>\n",
       "      <td>20150815</td>\n",
       "      <td>None</td>\n",
       "      <td>d1477e69857f42d18929f6f29b3be427</td>\n",
       "      <td>NaN</td>\n",
       "      <td>0</td>\n",
       "      <td>0</td>\n",
       "    </tr>\n",
       "    <tr>\n",
       "      <th>16852</th>\n",
       "      <td>118</td>\n",
       "      <td>20140605</td>\n",
       "      <td>None</td>\n",
       "      <td>6c0df9b1d3b8401c8098c7c7f9977d89</td>\n",
       "      <td>NaN</td>\n",
       "      <td>0</td>\n",
       "      <td>0</td>\n",
       "    </tr>\n",
       "    <tr>\n",
       "      <th>16853</th>\n",
       "      <td>118</td>\n",
       "      <td>20171123</td>\n",
       "      <td>None</td>\n",
       "      <td>7b3b8100d6444861803cefc6b13c9a43</td>\n",
       "      <td>NaN</td>\n",
       "      <td>0</td>\n",
       "      <td>0</td>\n",
       "    </tr>\n",
       "    <tr>\n",
       "      <th>16856</th>\n",
       "      <td>118</td>\n",
       "      <td>20150729</td>\n",
       "      <td>None</td>\n",
       "      <td>3a02d786fbc143edb257665ad54c5c09</td>\n",
       "      <td>NaN</td>\n",
       "      <td>0</td>\n",
       "      <td>0</td>\n",
       "    </tr>\n",
       "    <tr>\n",
       "      <th>16861</th>\n",
       "      <td>118</td>\n",
       "      <td>20171212</td>\n",
       "      <td>None</td>\n",
       "      <td>8f4364144e0548f885b390f28aabe2b8</td>\n",
       "      <td>NaN</td>\n",
       "      <td>0</td>\n",
       "      <td>0</td>\n",
       "    </tr>\n",
       "    <tr>\n",
       "      <th>16869</th>\n",
       "      <td>118</td>\n",
       "      <td>20160607</td>\n",
       "      <td>None</td>\n",
       "      <td>1efb4a45f5c34db4b07ebd19bdfc1b41</td>\n",
       "      <td>NaN</td>\n",
       "      <td>0</td>\n",
       "      <td>0</td>\n",
       "    </tr>\n",
       "    <tr>\n",
       "      <th>16875</th>\n",
       "      <td>118</td>\n",
       "      <td>20170129</td>\n",
       "      <td>None</td>\n",
       "      <td>113f3f07ac2b4f8b940d6136233ae3ee</td>\n",
       "      <td>NaN</td>\n",
       "      <td>0</td>\n",
       "      <td>0</td>\n",
       "    </tr>\n",
       "    <tr>\n",
       "      <th>16877</th>\n",
       "      <td>118</td>\n",
       "      <td>20180307</td>\n",
       "      <td>None</td>\n",
       "      <td>b6f74fc8e1664cfb9b44834dd9f7cf48</td>\n",
       "      <td>NaN</td>\n",
       "      <td>0</td>\n",
       "      <td>0</td>\n",
       "    </tr>\n",
       "    <tr>\n",
       "      <th>16885</th>\n",
       "      <td>118</td>\n",
       "      <td>20150804</td>\n",
       "      <td>None</td>\n",
       "      <td>123ec648e228460589182607c0db4dd5</td>\n",
       "      <td>NaN</td>\n",
       "      <td>0</td>\n",
       "      <td>0</td>\n",
       "    </tr>\n",
       "    <tr>\n",
       "      <th>16906</th>\n",
       "      <td>118</td>\n",
       "      <td>20170729</td>\n",
       "      <td>None</td>\n",
       "      <td>09f61d1d6e05402ca923d614dda52d57</td>\n",
       "      <td>NaN</td>\n",
       "      <td>0</td>\n",
       "      <td>0</td>\n",
       "    </tr>\n",
       "    <tr>\n",
       "      <th>16915</th>\n",
       "      <td>118</td>\n",
       "      <td>20171021</td>\n",
       "      <td>None</td>\n",
       "      <td>7b32b3085ad540a58482c091b1dca914</td>\n",
       "      <td>NaN</td>\n",
       "      <td>0</td>\n",
       "      <td>0</td>\n",
       "    </tr>\n",
       "    <tr>\n",
       "      <th>16923</th>\n",
       "      <td>118</td>\n",
       "      <td>20160209</td>\n",
       "      <td>None</td>\n",
       "      <td>54ed2d25754a486fba36eb5c7541203a</td>\n",
       "      <td>NaN</td>\n",
       "      <td>0</td>\n",
       "      <td>0</td>\n",
       "    </tr>\n",
       "    <tr>\n",
       "      <th>16931</th>\n",
       "      <td>118</td>\n",
       "      <td>20170913</td>\n",
       "      <td>None</td>\n",
       "      <td>e6843a4996574eb693ab864ecc406d56</td>\n",
       "      <td>NaN</td>\n",
       "      <td>0</td>\n",
       "      <td>0</td>\n",
       "    </tr>\n",
       "    <tr>\n",
       "      <th>16942</th>\n",
       "      <td>118</td>\n",
       "      <td>20170728</td>\n",
       "      <td>None</td>\n",
       "      <td>ba12d53863b3456f930ac62e2503fe48</td>\n",
       "      <td>NaN</td>\n",
       "      <td>0</td>\n",
       "      <td>0</td>\n",
       "    </tr>\n",
       "    <tr>\n",
       "      <th>16951</th>\n",
       "      <td>118</td>\n",
       "      <td>20171029</td>\n",
       "      <td>None</td>\n",
       "      <td>5ca2620962114246ab218fc648eb3934</td>\n",
       "      <td>NaN</td>\n",
       "      <td>0</td>\n",
       "      <td>0</td>\n",
       "    </tr>\n",
       "    <tr>\n",
       "      <th>16953</th>\n",
       "      <td>118</td>\n",
       "      <td>20170901</td>\n",
       "      <td>None</td>\n",
       "      <td>653d8f383fab43d4a93b10b02bd67266</td>\n",
       "      <td>NaN</td>\n",
       "      <td>0</td>\n",
       "      <td>0</td>\n",
       "    </tr>\n",
       "    <tr>\n",
       "      <th>16969</th>\n",
       "      <td>118</td>\n",
       "      <td>20131212</td>\n",
       "      <td>None</td>\n",
       "      <td>f19d9482309d4e93ad74935f9e46e44c</td>\n",
       "      <td>NaN</td>\n",
       "      <td>0</td>\n",
       "      <td>0</td>\n",
       "    </tr>\n",
       "    <tr>\n",
       "      <th>16977</th>\n",
       "      <td>118</td>\n",
       "      <td>20160609</td>\n",
       "      <td>None</td>\n",
       "      <td>eb7dd979f4644052a5c401a01f129132</td>\n",
       "      <td>NaN</td>\n",
       "      <td>0</td>\n",
       "      <td>0</td>\n",
       "    </tr>\n",
       "    <tr>\n",
       "      <th>16980</th>\n",
       "      <td>118</td>\n",
       "      <td>20160901</td>\n",
       "      <td>None</td>\n",
       "      <td>5c686d09ca4d475a8f750f2ba07e0440</td>\n",
       "      <td>NaN</td>\n",
       "      <td>0</td>\n",
       "      <td>0</td>\n",
       "    </tr>\n",
       "    <tr>\n",
       "      <th>16982</th>\n",
       "      <td>118</td>\n",
       "      <td>20160415</td>\n",
       "      <td>None</td>\n",
       "      <td>d9ca82f550ac4ee58b6299cf1e5c824a</td>\n",
       "      <td>NaN</td>\n",
       "      <td>0</td>\n",
       "      <td>0</td>\n",
       "    </tr>\n",
       "    <tr>\n",
       "      <th>16989</th>\n",
       "      <td>118</td>\n",
       "      <td>20180305</td>\n",
       "      <td>None</td>\n",
       "      <td>ca45ee1883624304bac1e4c8a114f045</td>\n",
       "      <td>NaN</td>\n",
       "      <td>0</td>\n",
       "      <td>0</td>\n",
       "    </tr>\n",
       "    <tr>\n",
       "      <th>16991</th>\n",
       "      <td>118</td>\n",
       "      <td>20160116</td>\n",
       "      <td>None</td>\n",
       "      <td>a9a20fa8b5504360beb4e7c8712f8306</td>\n",
       "      <td>NaN</td>\n",
       "      <td>0</td>\n",
       "      <td>0</td>\n",
       "    </tr>\n",
       "    <tr>\n",
       "      <th>16994</th>\n",
       "      <td>118</td>\n",
       "      <td>20151211</td>\n",
       "      <td>None</td>\n",
       "      <td>c02b10e8752c4d8e9b73f918558531f7</td>\n",
       "      <td>NaN</td>\n",
       "      <td>0</td>\n",
       "      <td>0</td>\n",
       "    </tr>\n",
       "  </tbody>\n",
       "</table>\n",
       "<p>2175 rows × 7 columns</p>\n",
       "</div>"
      ],
      "text/plain": [
       "       age  became_member_on gender                                id  income  \\\n",
       "0      118          20170212   None  68be06ca386d4c31939f3a4f0e3dd783     NaN   \n",
       "2      118          20180712   None  38fe809add3b4fcf9315a9694bb96ff5     NaN   \n",
       "4      118          20170804   None  a03223e636434f42ac4c3df47e8bac43     NaN   \n",
       "6      118          20170925   None  8ec6ce2a7e7949b1bf142def7d0e0586     NaN   \n",
       "7      118          20171002   None  68617ca6246f4fbc85e91a2a49552598     NaN   \n",
       "9      118          20161122   None  8974fc5686fe429db53ddde067b88302     NaN   \n",
       "10     118          20170824   None  c4863c7985cf408faee930f111475da3     NaN   \n",
       "11     118          20150919   None  148adfcaa27d485b82f323aaaad036bd     NaN   \n",
       "17     118          20170801   None  744d603ef08c4f33af5a61c8c7628d1c     NaN   \n",
       "23     118          20170907   None  2b826eba31074a059d63b0ae8f50b7d5     NaN   \n",
       "26     118          20170330   None  65aba5c617294649aeb624da249e1ee5     NaN   \n",
       "36     118          20160707   None  4beeb3ed64dd4898b0edf2f6b67426d3     NaN   \n",
       "39     118          20180113   None  25c906289d154b66bf579693f89481c9     NaN   \n",
       "44     118          20141111   None  5b8f1f0e0930464f93bb55e59b5a04e0     NaN   \n",
       "45     118          20170511   None  8be4463721e14d7fa600686bf8c8b2ed     NaN   \n",
       "54     118          20170528   None  81ac76e4f2fe4a6bb5ebdc0f19cecc56     NaN   \n",
       "56     118          20171013   None  020d3a52b9ce432ea5f98fc58e9bfcc4     NaN   \n",
       "57     118          20151220   None  4be1127413db496d8103c783ae72058b     NaN   \n",
       "80     118          20170918   None  9d8d6bb2fc544a9c802888971ee3e8b1     NaN   \n",
       "84     118          20150920   None  a89752cdfdf24779aa22faa2bc24e7c2     NaN   \n",
       "96     118          20160806   None  53bac762af27471eb294ff89ca1bae2c     NaN   \n",
       "103    118          20170223   None  488773cae11f4b71875bfccd4e3e99f2     NaN   \n",
       "104    118          20170823   None  182e68952b474700b171e21b85c258ac     NaN   \n",
       "108    118          20160130   None  5e9c83e8ab4d4e9ca83f3256d83ca756     NaN   \n",
       "121    118          20150730   None  c099206f76b1414db7552f163520053c     NaN   \n",
       "122    118          20171125   None  e6d3eebb535e44aca1323edde5c346fa     NaN   \n",
       "128    118          20160418   None  baba98dba43e42ae8e86cbd70725e201     NaN   \n",
       "143    118          20161018   None  58748c1cf9f746838c6ec62acdff28ad     NaN   \n",
       "169    118          20150905   None  770df32893694100afc703ea9c9df401     NaN   \n",
       "172    118          20180114   None  50b92ea51e2649dfbf7120d5e554e991     NaN   \n",
       "...    ...               ...    ...                               ...     ...   \n",
       "16820  118          20151015   None  64257cb56316491fae38e62f2687a66c     NaN   \n",
       "16829  118          20171007   None  56a0b671fa0347beb8b60011a15800aa     NaN   \n",
       "16831  118          20170910   None  060c0b9181674d03aa181b75353b9422     NaN   \n",
       "16835  118          20161211   None  587453e2944b4c6699519a217bf87de6     NaN   \n",
       "16839  118          20180626   None  d6063a30185b4e60b58a445bacec5f56     NaN   \n",
       "16842  118          20151110   None  a225189b10a141d5bb1ff0a05265da4c     NaN   \n",
       "16844  118          20170228   None  4342cb3414534aaca96ac523edc82654     NaN   \n",
       "16845  118          20150815   None  d1477e69857f42d18929f6f29b3be427     NaN   \n",
       "16852  118          20140605   None  6c0df9b1d3b8401c8098c7c7f9977d89     NaN   \n",
       "16853  118          20171123   None  7b3b8100d6444861803cefc6b13c9a43     NaN   \n",
       "16856  118          20150729   None  3a02d786fbc143edb257665ad54c5c09     NaN   \n",
       "16861  118          20171212   None  8f4364144e0548f885b390f28aabe2b8     NaN   \n",
       "16869  118          20160607   None  1efb4a45f5c34db4b07ebd19bdfc1b41     NaN   \n",
       "16875  118          20170129   None  113f3f07ac2b4f8b940d6136233ae3ee     NaN   \n",
       "16877  118          20180307   None  b6f74fc8e1664cfb9b44834dd9f7cf48     NaN   \n",
       "16885  118          20150804   None  123ec648e228460589182607c0db4dd5     NaN   \n",
       "16906  118          20170729   None  09f61d1d6e05402ca923d614dda52d57     NaN   \n",
       "16915  118          20171021   None  7b32b3085ad540a58482c091b1dca914     NaN   \n",
       "16923  118          20160209   None  54ed2d25754a486fba36eb5c7541203a     NaN   \n",
       "16931  118          20170913   None  e6843a4996574eb693ab864ecc406d56     NaN   \n",
       "16942  118          20170728   None  ba12d53863b3456f930ac62e2503fe48     NaN   \n",
       "16951  118          20171029   None  5ca2620962114246ab218fc648eb3934     NaN   \n",
       "16953  118          20170901   None  653d8f383fab43d4a93b10b02bd67266     NaN   \n",
       "16969  118          20131212   None  f19d9482309d4e93ad74935f9e46e44c     NaN   \n",
       "16977  118          20160609   None  eb7dd979f4644052a5c401a01f129132     NaN   \n",
       "16980  118          20160901   None  5c686d09ca4d475a8f750f2ba07e0440     NaN   \n",
       "16982  118          20160415   None  d9ca82f550ac4ee58b6299cf1e5c824a     NaN   \n",
       "16989  118          20180305   None  ca45ee1883624304bac1e4c8a114f045     NaN   \n",
       "16991  118          20160116   None  a9a20fa8b5504360beb4e7c8712f8306     NaN   \n",
       "16994  118          20151211   None  c02b10e8752c4d8e9b73f918558531f7     NaN   \n",
       "\n",
       "       male  female  \n",
       "0         0       0  \n",
       "2         0       0  \n",
       "4         0       0  \n",
       "6         0       0  \n",
       "7         0       0  \n",
       "9         0       0  \n",
       "10        0       0  \n",
       "11        0       0  \n",
       "17        0       0  \n",
       "23        0       0  \n",
       "26        0       0  \n",
       "36        0       0  \n",
       "39        0       0  \n",
       "44        0       0  \n",
       "45        0       0  \n",
       "54        0       0  \n",
       "56        0       0  \n",
       "57        0       0  \n",
       "80        0       0  \n",
       "84        0       0  \n",
       "96        0       0  \n",
       "103       0       0  \n",
       "104       0       0  \n",
       "108       0       0  \n",
       "121       0       0  \n",
       "122       0       0  \n",
       "128       0       0  \n",
       "143       0       0  \n",
       "169       0       0  \n",
       "172       0       0  \n",
       "...     ...     ...  \n",
       "16820     0       0  \n",
       "16829     0       0  \n",
       "16831     0       0  \n",
       "16835     0       0  \n",
       "16839     0       0  \n",
       "16842     0       0  \n",
       "16844     0       0  \n",
       "16845     0       0  \n",
       "16852     0       0  \n",
       "16853     0       0  \n",
       "16856     0       0  \n",
       "16861     0       0  \n",
       "16869     0       0  \n",
       "16875     0       0  \n",
       "16877     0       0  \n",
       "16885     0       0  \n",
       "16906     0       0  \n",
       "16915     0       0  \n",
       "16923     0       0  \n",
       "16931     0       0  \n",
       "16942     0       0  \n",
       "16951     0       0  \n",
       "16953     0       0  \n",
       "16969     0       0  \n",
       "16977     0       0  \n",
       "16980     0       0  \n",
       "16982     0       0  \n",
       "16989     0       0  \n",
       "16991     0       0  \n",
       "16994     0       0  \n",
       "\n",
       "[2175 rows x 7 columns]"
      ]
     },
     "execution_count": 23,
     "metadata": {},
     "output_type": "execute_result"
    }
   ],
   "source": [
    "profile[profile.age==118].head(2175)"
   ]
  },
  {
   "cell_type": "markdown",
   "metadata": {},
   "source": [
    "According to above, the missing values in gender and income are related to abnormal values in the age that is 118. Thus, all those values are removed from the dataset, So it needs to be deleted because it will have an effect on the accuracy of the data."
   ]
  },
  {
   "cell_type": "code",
   "execution_count": 24,
   "metadata": {},
   "outputs": [],
   "source": [
    "profile = profile.drop(profile[profile.age==118].index) # drop where age = 118"
   ]
  },
  {
   "cell_type": "code",
   "execution_count": 25,
   "metadata": {},
   "outputs": [
    {
     "data": {
      "text/plain": [
       "M    8484\n",
       "F    6129\n",
       "O     212\n",
       "Name: gender, dtype: int64"
      ]
     },
     "execution_count": 25,
     "metadata": {},
     "output_type": "execute_result"
    }
   ],
   "source": [
    "profile[\"gender\"].value_counts()"
   ]
  },
  {
   "cell_type": "code",
   "execution_count": 26,
   "metadata": {
    "scrolled": false
   },
   "outputs": [
    {
     "data": {
      "image/png": "[encoded data removed]",
      "text/plain": [
       "<matplotlib.figure.Figure at 0x7f7a18d9c3c8>"
      ]
     },
     "metadata": {},
     "output_type": "display_data"
    }
   ],
   "source": [
    "# Plot that show the percentage of Gender.\n",
    "count_test = profile['gender'].value_counts()\n",
    "labels = profile['gender'].value_counts().index\n",
    "plt.figure(figsize=(5,5))\n",
    "plt.pie(count_test, labels=labels, autopct='%1.1f%%')\n",
    "plt.legend(labels)\n",
    "plt.title(\"Gender Distribution\")\n",
    "plt.show()"
   ]
  },
  {
   "cell_type": "markdown",
   "metadata": {},
   "source": [
    "The graph shows that males have the highest percentage of gender and they represent 57% then followed by females with 41%. There are small amount of ‘O’ around 14% cases do not have a defined gender."
   ]
  },
  {
   "cell_type": "code",
   "execution_count": 27,
   "metadata": {},
   "outputs": [
    {
     "data": {
      "text/plain": [
       "Text(0.5,0,'age')"
      ]
     },
     "execution_count": 27,
     "metadata": {},
     "output_type": "execute_result"
    },
    {
     "data": {
      "image/png": "[encoded data removed]",
      "text/plain": [
       "<matplotlib.figure.Figure at 0x7f7a18dcbdd8>"
      ]
     },
     "metadata": {
      "needs_background": "light"
     },
     "output_type": "display_data"
    }
   ],
   "source": [
    "age_plot = profile['age'].plot(kind='hist', bins=20, title='Distribution of Age')\n",
    "age_plot.set_xlabel(\"age\")"
   ]
  },
  {
   "cell_type": "code",
   "execution_count": 28,
   "metadata": {},
   "outputs": [
    {
     "name": "stdout",
     "output_type": "stream",
     "text": [
      "THe Avg age of customer is: 54.0\n"
     ]
    }
   ],
   "source": [
    "print(\"THe Avg age of customer is:\",profile.age.mean().round()) #Average age"
   ]
  },
  {
   "cell_type": "code",
   "execution_count": 29,
   "metadata": {},
   "outputs": [
    {
     "data": {
      "text/plain": [
       "Text(0.5,0,'income')"
      ]
     },
     "execution_count": 29,
     "metadata": {},
     "output_type": "execute_result"
    },
    {
     "data": {
      "image/png": "[encoded data removed]",
      "text/plain": [
       "<matplotlib.figure.Figure at 0x7f7a18d6f978>"
      ]
     },
     "metadata": {
      "needs_background": "light"
     },
     "output_type": "display_data"
    }
   ],
   "source": [
    "income_plot = profile['income'].plot(kind='hist', bins=20, title='Distribution of income')\n",
    "income_plot.set_xlabel(\"income\")"
   ]
  },
  {
   "cell_type": "code",
   "execution_count": 30,
   "metadata": {
    "scrolled": true
   },
   "outputs": [
    {
     "name": "stdout",
     "output_type": "stream",
     "text": [
      "THe Avg income of customer is: 65405.0\n"
     ]
    }
   ],
   "source": [
    "print(\"THe Avg income of customer is:\",profile.income.mean().round()) #Average income"
   ]
  },
  {
   "cell_type": "code",
   "execution_count": 31,
   "metadata": {
    "scrolled": false
   },
   "outputs": [
    {
     "data": {
      "text/html": [
       "<div>\n",
       "<style scoped>\n",
       "    .dataframe tbody tr th:only-of-type {\n",
       "        vertical-align: middle;\n",
       "    }\n",
       "\n",
       "    .dataframe tbody tr th {\n",
       "        vertical-align: top;\n",
       "    }\n",
       "\n",
       "    .dataframe thead th {\n",
       "        text-align: right;\n",
       "    }\n",
       "</style>\n",
       "<table border=\"1\" class=\"dataframe\">\n",
       "  <thead>\n",
       "    <tr style=\"text-align: right;\">\n",
       "      <th></th>\n",
       "      <th>age_range</th>\n",
       "      <th>id</th>\n",
       "    </tr>\n",
       "  </thead>\n",
       "  <tbody>\n",
       "    <tr>\n",
       "      <th>0</th>\n",
       "      <td>16-19</td>\n",
       "      <td>0</td>\n",
       "    </tr>\n",
       "    <tr>\n",
       "      <th>1</th>\n",
       "      <td>20-29</td>\n",
       "      <td>340</td>\n",
       "    </tr>\n",
       "    <tr>\n",
       "      <th>2</th>\n",
       "      <td>30-39</td>\n",
       "      <td>1365</td>\n",
       "    </tr>\n",
       "    <tr>\n",
       "      <th>3</th>\n",
       "      <td>40-49</td>\n",
       "      <td>1597</td>\n",
       "    </tr>\n",
       "    <tr>\n",
       "      <th>4</th>\n",
       "      <td>50-59</td>\n",
       "      <td>2391</td>\n",
       "    </tr>\n",
       "    <tr>\n",
       "      <th>5</th>\n",
       "      <td>60-69</td>\n",
       "      <td>3590</td>\n",
       "    </tr>\n",
       "    <tr>\n",
       "      <th>6</th>\n",
       "      <td>70-79</td>\n",
       "      <td>2910</td>\n",
       "    </tr>\n",
       "    <tr>\n",
       "      <th>7</th>\n",
       "      <td>+80</td>\n",
       "      <td>2632</td>\n",
       "    </tr>\n",
       "  </tbody>\n",
       "</table>\n",
       "</div>"
      ],
      "text/plain": [
       "  age_range    id\n",
       "0     16-19     0\n",
       "1     20-29   340\n",
       "2     30-39  1365\n",
       "3     40-49  1597\n",
       "4     50-59  2391\n",
       "5     60-69  3590\n",
       "6     70-79  2910\n",
       "7       +80  2632"
      ]
     },
     "execution_count": 31,
     "metadata": {},
     "output_type": "execute_result"
    }
   ],
   "source": [
    "bins = [0,12,20,30,40,50,60,70,200] \n",
    "labels = ['16-19','20-29','30-39','40-49','50-59','60-69','70-79','+80']\n",
    "profile['age_range'] = pd.cut(profile.age, bins, labels = labels)\n",
    "profile_age = profile.groupby(['age_range'], as_index=False)['id'].count()\n",
    "profile_age"
   ]
  },
  {
   "cell_type": "code",
   "execution_count": 32,
   "metadata": {
    "scrolled": true
   },
   "outputs": [
    {
     "data": {
      "text/plain": [
       "Text(0,0.5,'Total')"
      ]
     },
     "execution_count": 32,
     "metadata": {},
     "output_type": "execute_result"
    },
    {
     "data": {
      "image/png": "[encoded data removed]",
      "text/plain": [
       "<matplotlib.figure.Figure at 0x7f7a18d2ecf8>"
      ]
     },
     "metadata": {
      "needs_background": "light"
     },
     "output_type": "display_data"
    }
   ],
   "source": [
    "df_pivot = pd.pivot_table(profile,values=\"age\",index=\"age_range\",aggfunc=np.mean)\n",
    "ax = df_pivot.plot(kind=\"bar\")\n",
    "fig = ax.get_figure()\n",
    "fig.set_size_inches(7, 6)\n",
    "ax.set_xlabel(\"Years\")\n",
    "ax.set_ylabel(\"Total\")"
   ]
  },
  {
   "cell_type": "markdown",
   "metadata": {},
   "source": [
    "On the \"Customer's age range\" histogram, we can see the most customer age is greater than 70 years old for this dataset"
   ]
  },
  {
   "cell_type": "code",
   "execution_count": 33,
   "metadata": {
    "scrolled": true
   },
   "outputs": [
    {
     "data": {
      "text/html": [
       "<div>\n",
       "<style scoped>\n",
       "    .dataframe tbody tr th:only-of-type {\n",
       "        vertical-align: middle;\n",
       "    }\n",
       "\n",
       "    .dataframe tbody tr th {\n",
       "        vertical-align: top;\n",
       "    }\n",
       "\n",
       "    .dataframe thead th {\n",
       "        text-align: right;\n",
       "    }\n",
       "</style>\n",
       "<table border=\"1\" class=\"dataframe\">\n",
       "  <thead>\n",
       "    <tr style=\"text-align: right;\">\n",
       "      <th></th>\n",
       "      <th>became_member_on</th>\n",
       "      <th>id</th>\n",
       "    </tr>\n",
       "  </thead>\n",
       "  <tbody>\n",
       "    <tr>\n",
       "      <th>0</th>\n",
       "      <td>2013</td>\n",
       "      <td>274</td>\n",
       "    </tr>\n",
       "    <tr>\n",
       "      <th>1</th>\n",
       "      <td>2014</td>\n",
       "      <td>662</td>\n",
       "    </tr>\n",
       "    <tr>\n",
       "      <th>2</th>\n",
       "      <td>2015</td>\n",
       "      <td>1597</td>\n",
       "    </tr>\n",
       "    <tr>\n",
       "      <th>3</th>\n",
       "      <td>2016</td>\n",
       "      <td>3024</td>\n",
       "    </tr>\n",
       "    <tr>\n",
       "      <th>4</th>\n",
       "      <td>2017</td>\n",
       "      <td>5599</td>\n",
       "    </tr>\n",
       "    <tr>\n",
       "      <th>5</th>\n",
       "      <td>2018</td>\n",
       "      <td>3669</td>\n",
       "    </tr>\n",
       "  </tbody>\n",
       "</table>\n",
       "</div>"
      ],
      "text/plain": [
       "   became_member_on    id\n",
       "0              2013   274\n",
       "1              2014   662\n",
       "2              2015  1597\n",
       "3              2016  3024\n",
       "4              2017  5599\n",
       "5              2018  3669"
      ]
     },
     "execution_count": 33,
     "metadata": {},
     "output_type": "execute_result"
    }
   ],
   "source": [
    "profile.became_member_on = profile['became_member_on'].astype(str).astype('datetime64[ns]').dt.year\n",
    "profile.became_member_on\n",
    "subscription_year = profile.groupby(['became_member_on'],as_index=False)['id'].count()\n",
    "subscription_year"
   ]
  },
  {
   "cell_type": "code",
   "execution_count": 34,
   "metadata": {
    "scrolled": true
   },
   "outputs": [
    {
     "data": {
      "image/png": "[encoded data removed]",
      "text/plain": [
       "<matplotlib.figure.Figure at 0x7f7a18dac390>"
      ]
     },
     "metadata": {
      "needs_background": "light"
     },
     "output_type": "display_data"
    }
   ],
   "source": [
    "plt.bar(subscription_year['became_member_on'],subscription_year['id'])\n",
    "plt.title('Became member on Distribution')\n",
    "plt.xlabel('Year')\n",
    "plt.ylabel('Total')\n",
    "plt.show()"
   ]
  },
  {
   "cell_type": "markdown",
   "metadata": {},
   "source": [
    "The plot has shown that the number of new users increased yearly in general. Also,The highest numbers of new users are in the second half of 2017 with more than 5000 users."
   ]
  },
  {
   "cell_type": "code",
   "execution_count": 35,
   "metadata": {
    "scrolled": false
   },
   "outputs": [
    {
     "data": {
      "text/html": [
       "<div>\n",
       "<style scoped>\n",
       "    .dataframe tbody tr th:only-of-type {\n",
       "        vertical-align: middle;\n",
       "    }\n",
       "\n",
       "    .dataframe tbody tr th {\n",
       "        vertical-align: top;\n",
       "    }\n",
       "\n",
       "    .dataframe thead th {\n",
       "        text-align: right;\n",
       "    }\n",
       "</style>\n",
       "<table border=\"1\" class=\"dataframe\">\n",
       "  <thead>\n",
       "    <tr style=\"text-align: right;\">\n",
       "      <th></th>\n",
       "      <th>Income_range</th>\n",
       "      <th>id</th>\n",
       "    </tr>\n",
       "  </thead>\n",
       "  <tbody>\n",
       "    <tr>\n",
       "      <th>0</th>\n",
       "      <td>30K-39K</td>\n",
       "      <td>2047</td>\n",
       "    </tr>\n",
       "    <tr>\n",
       "      <th>1</th>\n",
       "      <td>40K-49K</td>\n",
       "      <td>1899</td>\n",
       "    </tr>\n",
       "    <tr>\n",
       "      <th>2</th>\n",
       "      <td>50K-59K</td>\n",
       "      <td>2659</td>\n",
       "    </tr>\n",
       "    <tr>\n",
       "      <th>3</th>\n",
       "      <td>60K-69K</td>\n",
       "      <td>2347</td>\n",
       "    </tr>\n",
       "    <tr>\n",
       "      <th>4</th>\n",
       "      <td>70K-79K</td>\n",
       "      <td>2220</td>\n",
       "    </tr>\n",
       "    <tr>\n",
       "      <th>5</th>\n",
       "      <td>80K-89K</td>\n",
       "      <td>1371</td>\n",
       "    </tr>\n",
       "    <tr>\n",
       "      <th>6</th>\n",
       "      <td>90K-100K</td>\n",
       "      <td>1188</td>\n",
       "    </tr>\n",
       "    <tr>\n",
       "      <th>7</th>\n",
       "      <td>100K+</td>\n",
       "      <td>1006</td>\n",
       "    </tr>\n",
       "  </tbody>\n",
       "</table>\n",
       "</div>"
      ],
      "text/plain": [
       "  Income_range    id\n",
       "0      30K-39K  2047\n",
       "1      40K-49K  1899\n",
       "2      50K-59K  2659\n",
       "3      60K-69K  2347\n",
       "4      70K-79K  2220\n",
       "5      80K-89K  1371\n",
       "6     90K-100K  1188\n",
       "7        100K+  1006"
      ]
     },
     "execution_count": 35,
     "metadata": {},
     "output_type": "execute_result"
    }
   ],
   "source": [
    "bins = [30000,40000,50000,60000,70000,80000,90000,100000,120000]\n",
    "labels = ['30K-39K', '40K-49K', '50K-59K','60K-69K', '70K-79K', '80K-89K','90K-100K','100K+']\n",
    "profile['Income_range'] = pd.cut(profile.income, bins, labels = labels)\n",
    "income_profile = profile.groupby(['Income_range'],as_index=False)['id'].count()\n",
    "income_profile"
   ]
  },
  {
   "cell_type": "code",
   "execution_count": 36,
   "metadata": {
    "scrolled": true
   },
   "outputs": [
    {
     "data": {
      "text/plain": [
       "Text(0,0.5,'Total')"
      ]
     },
     "execution_count": 36,
     "metadata": {},
     "output_type": "execute_result"
    },
    {
     "data": {
      "image/png": "[encoded data removed]",
      "text/plain": [
       "<matplotlib.figure.Figure at 0x7f7a18cd1550>"
      ]
     },
     "metadata": {
      "needs_background": "light"
     },
     "output_type": "display_data"
    }
   ],
   "source": [
    "df_pivot = pd.pivot_table(profile,values=\"income\",index=\"Income_range\",aggfunc=np.mean)\n",
    "ax = df_pivot.plot(kind=\"bar\")\n",
    "fig = ax.get_figure()\n",
    "fig.set_size_inches(7, 6)\n",
    "ax.set_xlabel(\"Income\")\n",
    "ax.set_ylabel(\"Total\")"
   ]
  },
  {
   "cell_type": "markdown",
   "metadata": {},
   "source": [
    "On the \"Customer's income range\" histogram, we can see that the highest total is + 100K for Customer's for this dataset."
   ]
  },
  {
   "cell_type": "code",
   "execution_count": 37,
   "metadata": {},
   "outputs": [
    {
     "data": {
      "text/html": [
       "<div>\n",
       "<style scoped>\n",
       "    .dataframe tbody tr th:only-of-type {\n",
       "        vertical-align: middle;\n",
       "    }\n",
       "\n",
       "    .dataframe tbody tr th {\n",
       "        vertical-align: top;\n",
       "    }\n",
       "\n",
       "    .dataframe thead th {\n",
       "        text-align: right;\n",
       "    }\n",
       "</style>\n",
       "<table border=\"1\" class=\"dataframe\">\n",
       "  <thead>\n",
       "    <tr style=\"text-align: right;\">\n",
       "      <th></th>\n",
       "      <th>age</th>\n",
       "      <th>became_member_on</th>\n",
       "      <th>gender</th>\n",
       "      <th>id</th>\n",
       "      <th>income</th>\n",
       "      <th>male</th>\n",
       "      <th>female</th>\n",
       "      <th>age_range</th>\n",
       "      <th>Income_range</th>\n",
       "    </tr>\n",
       "  </thead>\n",
       "  <tbody>\n",
       "    <tr>\n",
       "      <th>1</th>\n",
       "      <td>55</td>\n",
       "      <td>2017</td>\n",
       "      <td>F</td>\n",
       "      <td>0610b486422d4921ae7d2bf64640c50b</td>\n",
       "      <td>112000.0</td>\n",
       "      <td>0</td>\n",
       "      <td>1</td>\n",
       "      <td>60-69</td>\n",
       "      <td>100K+</td>\n",
       "    </tr>\n",
       "    <tr>\n",
       "      <th>3</th>\n",
       "      <td>75</td>\n",
       "      <td>2017</td>\n",
       "      <td>F</td>\n",
       "      <td>78afa995795e4d85b5d9ceeca43f5fef</td>\n",
       "      <td>100000.0</td>\n",
       "      <td>0</td>\n",
       "      <td>1</td>\n",
       "      <td>+80</td>\n",
       "      <td>90K-100K</td>\n",
       "    </tr>\n",
       "    <tr>\n",
       "      <th>5</th>\n",
       "      <td>68</td>\n",
       "      <td>2018</td>\n",
       "      <td>M</td>\n",
       "      <td>e2127556f4f64592b11af22de27a7932</td>\n",
       "      <td>70000.0</td>\n",
       "      <td>1</td>\n",
       "      <td>0</td>\n",
       "      <td>70-79</td>\n",
       "      <td>60K-69K</td>\n",
       "    </tr>\n",
       "    <tr>\n",
       "      <th>8</th>\n",
       "      <td>65</td>\n",
       "      <td>2018</td>\n",
       "      <td>M</td>\n",
       "      <td>389bc3fa690240e798340f5a15918d5c</td>\n",
       "      <td>53000.0</td>\n",
       "      <td>1</td>\n",
       "      <td>0</td>\n",
       "      <td>70-79</td>\n",
       "      <td>50K-59K</td>\n",
       "    </tr>\n",
       "    <tr>\n",
       "      <th>12</th>\n",
       "      <td>58</td>\n",
       "      <td>2017</td>\n",
       "      <td>M</td>\n",
       "      <td>2eeac8d8feae4a8cad5a6af0499a211d</td>\n",
       "      <td>51000.0</td>\n",
       "      <td>1</td>\n",
       "      <td>0</td>\n",
       "      <td>60-69</td>\n",
       "      <td>50K-59K</td>\n",
       "    </tr>\n",
       "  </tbody>\n",
       "</table>\n",
       "</div>"
      ],
      "text/plain": [
       "    age  became_member_on gender                                id    income  \\\n",
       "1    55              2017      F  0610b486422d4921ae7d2bf64640c50b  112000.0   \n",
       "3    75              2017      F  78afa995795e4d85b5d9ceeca43f5fef  100000.0   \n",
       "5    68              2018      M  e2127556f4f64592b11af22de27a7932   70000.0   \n",
       "8    65              2018      M  389bc3fa690240e798340f5a15918d5c   53000.0   \n",
       "12   58              2017      M  2eeac8d8feae4a8cad5a6af0499a211d   51000.0   \n",
       "\n",
       "    male  female age_range Income_range  \n",
       "1      0       1     60-69        100K+  \n",
       "3      0       1       +80     90K-100K  \n",
       "5      1       0     70-79      60K-69K  \n",
       "8      1       0     70-79      50K-59K  \n",
       "12     1       0     60-69      50K-59K  "
      ]
     },
     "execution_count": 37,
     "metadata": {},
     "output_type": "execute_result"
    }
   ],
   "source": [
    "profile.head()"
   ]
  },
  {
   "cell_type": "markdown",
   "metadata": {},
   "source": [
    "### 1.3 Transcript Dataset"
   ]
  },
  {
   "cell_type": "markdown",
   "metadata": {},
   "source": [
    "### Show Data"
   ]
  },
  {
   "cell_type": "code",
   "execution_count": 38,
   "metadata": {
    "scrolled": true
   },
   "outputs": [
    {
     "data": {
      "text/html": [
       "<div>\n",
       "<style scoped>\n",
       "    .dataframe tbody tr th:only-of-type {\n",
       "        vertical-align: middle;\n",
       "    }\n",
       "\n",
       "    .dataframe tbody tr th {\n",
       "        vertical-align: top;\n",
       "    }\n",
       "\n",
       "    .dataframe thead th {\n",
       "        text-align: right;\n",
       "    }\n",
       "</style>\n",
       "<table border=\"1\" class=\"dataframe\">\n",
       "  <thead>\n",
       "    <tr style=\"text-align: right;\">\n",
       "      <th></th>\n",
       "      <th>event</th>\n",
       "      <th>person</th>\n",
       "      <th>time</th>\n",
       "      <th>value</th>\n",
       "    </tr>\n",
       "  </thead>\n",
       "  <tbody>\n",
       "    <tr>\n",
       "      <th>0</th>\n",
       "      <td>offer received</td>\n",
       "      <td>78afa995795e4d85b5d9ceeca43f5fef</td>\n",
       "      <td>0</td>\n",
       "      <td>{'offer id': '9b98b8c7a33c4b65b9aebfe6a799e6d9'}</td>\n",
       "    </tr>\n",
       "    <tr>\n",
       "      <th>1</th>\n",
       "      <td>offer received</td>\n",
       "      <td>a03223e636434f42ac4c3df47e8bac43</td>\n",
       "      <td>0</td>\n",
       "      <td>{'offer id': '0b1e1539f2cc45b7b9fa7c272da2e1d7'}</td>\n",
       "    </tr>\n",
       "    <tr>\n",
       "      <th>2</th>\n",
       "      <td>offer received</td>\n",
       "      <td>e2127556f4f64592b11af22de27a7932</td>\n",
       "      <td>0</td>\n",
       "      <td>{'offer id': '2906b810c7d4411798c6938adc9daaa5'}</td>\n",
       "    </tr>\n",
       "    <tr>\n",
       "      <th>3</th>\n",
       "      <td>offer received</td>\n",
       "      <td>8ec6ce2a7e7949b1bf142def7d0e0586</td>\n",
       "      <td>0</td>\n",
       "      <td>{'offer id': 'fafdcd668e3743c1bb461111dcafc2a4'}</td>\n",
       "    </tr>\n",
       "    <tr>\n",
       "      <th>4</th>\n",
       "      <td>offer received</td>\n",
       "      <td>68617ca6246f4fbc85e91a2a49552598</td>\n",
       "      <td>0</td>\n",
       "      <td>{'offer id': '4d5c57ea9a6940dd891ad53e9dbe8da0'}</td>\n",
       "    </tr>\n",
       "  </tbody>\n",
       "</table>\n",
       "</div>"
      ],
      "text/plain": [
       "            event                            person  time  \\\n",
       "0  offer received  78afa995795e4d85b5d9ceeca43f5fef     0   \n",
       "1  offer received  a03223e636434f42ac4c3df47e8bac43     0   \n",
       "2  offer received  e2127556f4f64592b11af22de27a7932     0   \n",
       "3  offer received  8ec6ce2a7e7949b1bf142def7d0e0586     0   \n",
       "4  offer received  68617ca6246f4fbc85e91a2a49552598     0   \n",
       "\n",
       "                                              value  \n",
       "0  {'offer id': '9b98b8c7a33c4b65b9aebfe6a799e6d9'}  \n",
       "1  {'offer id': '0b1e1539f2cc45b7b9fa7c272da2e1d7'}  \n",
       "2  {'offer id': '2906b810c7d4411798c6938adc9daaa5'}  \n",
       "3  {'offer id': 'fafdcd668e3743c1bb461111dcafc2a4'}  \n",
       "4  {'offer id': '4d5c57ea9a6940dd891ad53e9dbe8da0'}  "
      ]
     },
     "execution_count": 38,
     "metadata": {},
     "output_type": "execute_result"
    }
   ],
   "source": [
    "transcript.head()"
   ]
  },
  {
   "cell_type": "markdown",
   "metadata": {},
   "source": [
    "### Data Shape"
   ]
  },
  {
   "cell_type": "code",
   "execution_count": 39,
   "metadata": {},
   "outputs": [
    {
     "data": {
      "text/plain": [
       "(306534, 4)"
      ]
     },
     "execution_count": 39,
     "metadata": {},
     "output_type": "execute_result"
    }
   ],
   "source": [
    "transcript.shape # Show the shape of the dataset"
   ]
  },
  {
   "cell_type": "markdown",
   "metadata": {},
   "source": [
    "### Data Types"
   ]
  },
  {
   "cell_type": "code",
   "execution_count": 40,
   "metadata": {
    "scrolled": true
   },
   "outputs": [
    {
     "name": "stdout",
     "output_type": "stream",
     "text": [
      "<class 'pandas.core.frame.DataFrame'>\n",
      "RangeIndex: 306534 entries, 0 to 306533\n",
      "Data columns (total 4 columns):\n",
      "event     306534 non-null object\n",
      "person    306534 non-null object\n",
      "time      306534 non-null int64\n",
      "value     306534 non-null object\n",
      "dtypes: int64(1), object(3)\n",
      "memory usage: 9.4+ MB\n"
     ]
    }
   ],
   "source": [
    "transcript.info() # Show the data_types of features "
   ]
  },
  {
   "cell_type": "markdown",
   "metadata": {},
   "source": [
    "### Data Completeness"
   ]
  },
  {
   "cell_type": "code",
   "execution_count": 41,
   "metadata": {
    "scrolled": true
   },
   "outputs": [
    {
     "data": {
      "text/plain": [
       "event     0\n",
       "person    0\n",
       "time      0\n",
       "value     0\n",
       "dtype: int64"
      ]
     },
     "execution_count": 41,
     "metadata": {},
     "output_type": "execute_result"
    }
   ],
   "source": [
    "transcript.isna().sum()"
   ]
  },
  {
   "cell_type": "markdown",
   "metadata": {},
   "source": [
    "There no missing value is portfolio dataset."
   ]
  },
  {
   "cell_type": "code",
   "execution_count": 42,
   "metadata": {},
   "outputs": [
    {
     "data": {
      "text/plain": [
       "transaction        138953\n",
       "offer received      76277\n",
       "offer viewed        57725\n",
       "offer completed     33579\n",
       "Name: event, dtype: int64"
      ]
     },
     "execution_count": 42,
     "metadata": {},
     "output_type": "execute_result"
    }
   ],
   "source": [
    "transcript[\"event\"].value_counts()"
   ]
  },
  {
   "cell_type": "code",
   "execution_count": 43,
   "metadata": {
    "scrolled": false
   },
   "outputs": [
    {
     "data": {
      "image/png": "[encoded data removed]",
      "text/plain": [
       "<matplotlib.figure.Figure at 0x7f7a18d9c4a8>"
      ]
     },
     "metadata": {},
     "output_type": "display_data"
    }
   ],
   "source": [
    "count_test = transcript['event'].value_counts()\n",
    "labels = transcript['event'].value_counts().index\n",
    "plt.figure(figsize=(7,7))\n",
    "plt.pie(count_test, labels=labels, autopct='%1.1f%%')\n",
    "plt.legend(labels)\n",
    "plt.title(\"The percentage of Events\")\n",
    "plt.show()"
   ]
  },
  {
   "cell_type": "markdown",
   "metadata": {},
   "source": [
    "The graph shows that transaction have the highest percentage of event and they represent 45% then followed by offer received with 25% then offer viewed and offer completed.   "
   ]
  },
  {
   "cell_type": "markdown",
   "metadata": {},
   "source": [
    "### Data cleaning, Preprocessing, and feature extraction"
   ]
  },
  {
   "cell_type": "markdown",
   "metadata": {},
   "source": [
    "### Transcript _Clean (copy of Transcript Dataset):"
   ]
  },
  {
   "cell_type": "markdown",
   "metadata": {},
   "source": [
    "The cleaning and preprocessing of Transcript _Clean is performed as follow :\n",
    "- The first step is to encoded offer_id , amount and reward in value column so there will 3 new columns : offer_id ,amount and reward.\n",
    "- Add offer_completed column. For example, offer_completed  = 1 means the offer event is offer completed.\n",
    "- drop value column.\n",
    "- Change the names of offer_id to be more readable."
   ]
  },
  {
   "cell_type": "code",
   "execution_count": 44,
   "metadata": {},
   "outputs": [
    {
     "data": {
      "text/plain": [
       "{'amount', 'offer id', 'offer_id', 'reward'}"
      ]
     },
     "execution_count": 44,
     "metadata": {},
     "output_type": "execute_result"
    }
   ],
   "source": [
    "# Finding keys in value column\n",
    "keys = set()\n",
    "for val in transcript.value:\n",
    "    keys.update(val.keys())\n",
    "keys"
   ]
  },
  {
   "cell_type": "code",
   "execution_count": 45,
   "metadata": {},
   "outputs": [],
   "source": [
    "transcript_clean = transcript.copy()\n",
    "\n",
    "###################################\n",
    "# Get the offer_id data from the value column \n",
    "###################################\n",
    "transcript_clean['offer_id'] = [[*v.values()][0]\n",
    "                                    if [*v.keys()][0] in ['offer id',\n",
    "                                                          'offer_id'] else 0\n",
    "                                    for v in transcript_clean.value] \n",
    "###################################\n",
    "# Get the transaction amount data from the value column\n",
    "###################################\n",
    "transcript_clean['amount'] = [np.round([*v.values()][0], decimals=2) \n",
    "                                  if [*v.keys()][0] == 'amount' else 0\n",
    "                                  for v in transcript_clean.value] \n",
    "###################################\n",
    "# Get the transaction reward data from the value column\n",
    "###################################\n",
    "transcript_clean['reward'] = [np.round([*v.values()][0], decimals=2)\n",
    "                                  if [*v.keys()][0] == 'reward' else 0\n",
    "                                  for v in transcript_clean.value] "
   ]
  },
  {
   "cell_type": "code",
   "execution_count": 46,
   "metadata": {},
   "outputs": [],
   "source": [
    "transcript_clean.drop('value',inplace=True,axis=1) # drop the value column"
   ]
  },
  {
   "cell_type": "code",
   "execution_count": 47,
   "metadata": {
    "scrolled": true
   },
   "outputs": [
    {
     "data": {
      "text/html": [
       "<div>\n",
       "<style scoped>\n",
       "    .dataframe tbody tr th:only-of-type {\n",
       "        vertical-align: middle;\n",
       "    }\n",
       "\n",
       "    .dataframe tbody tr th {\n",
       "        vertical-align: top;\n",
       "    }\n",
       "\n",
       "    .dataframe thead th {\n",
       "        text-align: right;\n",
       "    }\n",
       "</style>\n",
       "<table border=\"1\" class=\"dataframe\">\n",
       "  <thead>\n",
       "    <tr style=\"text-align: right;\">\n",
       "      <th></th>\n",
       "      <th>event</th>\n",
       "      <th>person</th>\n",
       "      <th>time</th>\n",
       "      <th>offer_id</th>\n",
       "      <th>amount</th>\n",
       "      <th>reward</th>\n",
       "    </tr>\n",
       "  </thead>\n",
       "  <tbody>\n",
       "    <tr>\n",
       "      <th>0</th>\n",
       "      <td>offer received</td>\n",
       "      <td>78afa995795e4d85b5d9ceeca43f5fef</td>\n",
       "      <td>0</td>\n",
       "      <td>9b98b8c7a33c4b65b9aebfe6a799e6d9</td>\n",
       "      <td>0.0</td>\n",
       "      <td>0</td>\n",
       "    </tr>\n",
       "    <tr>\n",
       "      <th>1</th>\n",
       "      <td>offer received</td>\n",
       "      <td>a03223e636434f42ac4c3df47e8bac43</td>\n",
       "      <td>0</td>\n",
       "      <td>0b1e1539f2cc45b7b9fa7c272da2e1d7</td>\n",
       "      <td>0.0</td>\n",
       "      <td>0</td>\n",
       "    </tr>\n",
       "    <tr>\n",
       "      <th>2</th>\n",
       "      <td>offer received</td>\n",
       "      <td>e2127556f4f64592b11af22de27a7932</td>\n",
       "      <td>0</td>\n",
       "      <td>2906b810c7d4411798c6938adc9daaa5</td>\n",
       "      <td>0.0</td>\n",
       "      <td>0</td>\n",
       "    </tr>\n",
       "    <tr>\n",
       "      <th>3</th>\n",
       "      <td>offer received</td>\n",
       "      <td>8ec6ce2a7e7949b1bf142def7d0e0586</td>\n",
       "      <td>0</td>\n",
       "      <td>fafdcd668e3743c1bb461111dcafc2a4</td>\n",
       "      <td>0.0</td>\n",
       "      <td>0</td>\n",
       "    </tr>\n",
       "    <tr>\n",
       "      <th>4</th>\n",
       "      <td>offer received</td>\n",
       "      <td>68617ca6246f4fbc85e91a2a49552598</td>\n",
       "      <td>0</td>\n",
       "      <td>4d5c57ea9a6940dd891ad53e9dbe8da0</td>\n",
       "      <td>0.0</td>\n",
       "      <td>0</td>\n",
       "    </tr>\n",
       "  </tbody>\n",
       "</table>\n",
       "</div>"
      ],
      "text/plain": [
       "            event                            person  time  \\\n",
       "0  offer received  78afa995795e4d85b5d9ceeca43f5fef     0   \n",
       "1  offer received  a03223e636434f42ac4c3df47e8bac43     0   \n",
       "2  offer received  e2127556f4f64592b11af22de27a7932     0   \n",
       "3  offer received  8ec6ce2a7e7949b1bf142def7d0e0586     0   \n",
       "4  offer received  68617ca6246f4fbc85e91a2a49552598     0   \n",
       "\n",
       "                           offer_id  amount  reward  \n",
       "0  9b98b8c7a33c4b65b9aebfe6a799e6d9     0.0       0  \n",
       "1  0b1e1539f2cc45b7b9fa7c272da2e1d7     0.0       0  \n",
       "2  2906b810c7d4411798c6938adc9daaa5     0.0       0  \n",
       "3  fafdcd668e3743c1bb461111dcafc2a4     0.0       0  \n",
       "4  4d5c57ea9a6940dd891ad53e9dbe8da0     0.0       0  "
      ]
     },
     "execution_count": 47,
     "metadata": {},
     "output_type": "execute_result"
    }
   ],
   "source": [
    "transcript_clean.head()"
   ]
  },
  {
   "cell_type": "code",
   "execution_count": 48,
   "metadata": {},
   "outputs": [],
   "source": [
    "transcript_clean = transcript_clean.loc[transcript_clean.event.isin(['offer completed', 'offer received'])]"
   ]
  },
  {
   "cell_type": "code",
   "execution_count": 49,
   "metadata": {},
   "outputs": [],
   "source": [
    "#  completed offers with person and offer as columns \n",
    "completed_offers = transcript_clean[transcript_clean.event == 'offer completed' ][['person','offer_id']]\n",
    "\n",
    "# incompleted offers\n",
    "incompleted_offers = np.logical_not(transcript_clean.person.isin(completed_offers.person) & transcript_clean.offer_id.isin(completed_offers.offer_id))"
   ]
  },
  {
   "cell_type": "code",
   "execution_count": 50,
   "metadata": {},
   "outputs": [],
   "source": [
    "# update in value events to incompleted\n",
    "transcript_clean.loc[incompleted_offers,'event'] = 'offer incompleted'\n",
    "\n",
    "# remove duplicated rows\n",
    "transcript_clean = transcript_clean[transcript_clean.event != 'offer received']"
   ]
  },
  {
   "cell_type": "code",
   "execution_count": 51,
   "metadata": {},
   "outputs": [],
   "source": [
    "transcript_clean.insert(2,'offer_completed',transcript.event.apply(lambda x: 1 if 'offer completed' in x else 0))"
   ]
  },
  {
   "cell_type": "code",
   "execution_count": 52,
   "metadata": {},
   "outputs": [],
   "source": [
    "transcript_clean.drop('event',inplace=True,axis=1) # drop the value column"
   ]
  },
  {
   "cell_type": "code",
   "execution_count": 53,
   "metadata": {
    "scrolled": true
   },
   "outputs": [
    {
     "data": {
      "text/html": [
       "<div>\n",
       "<style scoped>\n",
       "    .dataframe tbody tr th:only-of-type {\n",
       "        vertical-align: middle;\n",
       "    }\n",
       "\n",
       "    .dataframe tbody tr th {\n",
       "        vertical-align: top;\n",
       "    }\n",
       "\n",
       "    .dataframe thead th {\n",
       "        text-align: right;\n",
       "    }\n",
       "</style>\n",
       "<table border=\"1\" class=\"dataframe\">\n",
       "  <thead>\n",
       "    <tr style=\"text-align: right;\">\n",
       "      <th></th>\n",
       "      <th>person</th>\n",
       "      <th>offer_completed</th>\n",
       "      <th>time</th>\n",
       "      <th>offer_id</th>\n",
       "      <th>amount</th>\n",
       "      <th>reward</th>\n",
       "    </tr>\n",
       "  </thead>\n",
       "  <tbody>\n",
       "    <tr>\n",
       "      <th>1</th>\n",
       "      <td>a03223e636434f42ac4c3df47e8bac43</td>\n",
       "      <td>0</td>\n",
       "      <td>0</td>\n",
       "      <td>0b1e1539f2cc45b7b9fa7c272da2e1d7</td>\n",
       "      <td>0.0</td>\n",
       "      <td>0</td>\n",
       "    </tr>\n",
       "    <tr>\n",
       "      <th>3</th>\n",
       "      <td>8ec6ce2a7e7949b1bf142def7d0e0586</td>\n",
       "      <td>0</td>\n",
       "      <td>0</td>\n",
       "      <td>fafdcd668e3743c1bb461111dcafc2a4</td>\n",
       "      <td>0.0</td>\n",
       "      <td>0</td>\n",
       "    </tr>\n",
       "    <tr>\n",
       "      <th>4</th>\n",
       "      <td>68617ca6246f4fbc85e91a2a49552598</td>\n",
       "      <td>0</td>\n",
       "      <td>0</td>\n",
       "      <td>4d5c57ea9a6940dd891ad53e9dbe8da0</td>\n",
       "      <td>0.0</td>\n",
       "      <td>0</td>\n",
       "    </tr>\n",
       "    <tr>\n",
       "      <th>7</th>\n",
       "      <td>2eeac8d8feae4a8cad5a6af0499a211d</td>\n",
       "      <td>0</td>\n",
       "      <td>0</td>\n",
       "      <td>3f207df678b143eea3cee63160fa8bed</td>\n",
       "      <td>0.0</td>\n",
       "      <td>0</td>\n",
       "    </tr>\n",
       "    <tr>\n",
       "      <th>10</th>\n",
       "      <td>744d603ef08c4f33af5a61c8c7628d1c</td>\n",
       "      <td>0</td>\n",
       "      <td>0</td>\n",
       "      <td>0b1e1539f2cc45b7b9fa7c272da2e1d7</td>\n",
       "      <td>0.0</td>\n",
       "      <td>0</td>\n",
       "    </tr>\n",
       "  </tbody>\n",
       "</table>\n",
       "</div>"
      ],
      "text/plain": [
       "                              person  offer_completed  time  \\\n",
       "1   a03223e636434f42ac4c3df47e8bac43                0     0   \n",
       "3   8ec6ce2a7e7949b1bf142def7d0e0586                0     0   \n",
       "4   68617ca6246f4fbc85e91a2a49552598                0     0   \n",
       "7   2eeac8d8feae4a8cad5a6af0499a211d                0     0   \n",
       "10  744d603ef08c4f33af5a61c8c7628d1c                0     0   \n",
       "\n",
       "                            offer_id  amount  reward  \n",
       "1   0b1e1539f2cc45b7b9fa7c272da2e1d7     0.0       0  \n",
       "3   fafdcd668e3743c1bb461111dcafc2a4     0.0       0  \n",
       "4   4d5c57ea9a6940dd891ad53e9dbe8da0     0.0       0  \n",
       "7   3f207df678b143eea3cee63160fa8bed     0.0       0  \n",
       "10  0b1e1539f2cc45b7b9fa7c272da2e1d7     0.0       0  "
      ]
     },
     "execution_count": 53,
     "metadata": {},
     "output_type": "execute_result"
    }
   ],
   "source": [
    "transcript_clean.head()"
   ]
  },
  {
   "cell_type": "code",
   "execution_count": 54,
   "metadata": {},
   "outputs": [],
   "source": [
    "# Change the names of offer_id to be more readable. \n",
    "offer_id = {'ae264e3637204a6fb9bb56bc8210ddfd': 'BOGO_1','4d5c57ea9a6940dd891ad53e9dbe8da0': 'BOGO_2',\n",
    "      '9b98b8c7a33c4b65b9aebfe6a799e6d9': 'BOGO_3','f19421c1d4aa40978ebb69ca19b0e20d': 'BOGO_4',\n",
    "      '0b1e1539f2cc45b7b9fa7c272da2e1d7': 'Discount_1','2298d6c36e964ae4a3e7e9706d1fb8c2': 'Discount-2',\n",
    "      'fafdcd668e3743c1bb461111dcafc2a4': 'Discount_3','2906b810c7d4411798c6938adc9daaa5': 'Discount_4',\n",
    "      '3f207df678b143eea3cee63160fa8bed': 'Info_1','5a8bc65990b245e5a138643cd4eb9837': 'info_2'}\n",
    "transcript_clean.offer_id = transcript_clean.offer_id.apply(lambda x: id[x] if x else None)"
   ]
  },
  {
   "cell_type": "code",
   "execution_count": 55,
   "metadata": {},
   "outputs": [
    {
     "data": {
      "text/plain": [
       "1    33579\n",
       "0    29198\n",
       "Name: offer_completed, dtype: int64"
      ]
     },
     "execution_count": 55,
     "metadata": {},
     "output_type": "execute_result"
    }
   ],
   "source": [
    "transcript_clean.offer_completed.value_counts()"
   ]
  },
  {
   "cell_type": "code",
   "execution_count": 56,
   "metadata": {
    "scrolled": true
   },
   "outputs": [
    {
     "data": {
      "text/plain": [
       "<matplotlib.axes._subplots.AxesSubplot at 0x7f7a18c5ee48>"
      ]
     },
     "execution_count": 56,
     "metadata": {},
     "output_type": "execute_result"
    },
    {
     "data": {
      "image/png": "[encoded data removed]",
      "text/plain": [
       "<matplotlib.figure.Figure at 0x7f7a18c56470>"
      ]
     },
     "metadata": {
      "needs_background": "light"
     },
     "output_type": "display_data"
    }
   ],
   "source": [
    "transcript_clean.offer_completed.value_counts().plot(kind='bar')"
   ]
  },
  {
   "cell_type": "markdown",
   "metadata": {},
   "source": [
    "On the above graph, we can see that the offers are mostly completed."
   ]
  },
  {
   "cell_type": "code",
   "execution_count": 57,
   "metadata": {},
   "outputs": [
    {
     "data": {
      "text/plain": [
       "<matplotlib.axes._subplots.AxesSubplot at 0x7f7a18d2ecc0>"
      ]
     },
     "execution_count": 57,
     "metadata": {},
     "output_type": "execute_result"
    },
    {
     "data": {
      "image/png": "[encoded data removed]",
      "text/plain": [
       "<matplotlib.figure.Figure at 0x7f7a18cf0358>"
      ]
     },
     "metadata": {
      "needs_background": "light"
     },
     "output_type": "display_data"
    }
   ],
   "source": [
    "transcript_clean.offer_id.value_counts().plot(kind='bar')"
   ]
  },
  {
   "cell_type": "markdown",
   "metadata": {},
   "source": [
    "We can see from the above graph that Info_2 , Info_1 and Discounts_3 are the most common offers id that used."
   ]
  },
  {
   "cell_type": "markdown",
   "metadata": {},
   "source": [
    "### Merge the dataframes"
   ]
  },
  {
   "cell_type": "markdown",
   "metadata": {},
   "source": [
    "Merge the three data sets into one"
   ]
  },
  {
   "cell_type": "markdown",
   "metadata": {},
   "source": [
    "The cleaning and preprocessing of final_data is performed as follow :\n",
    "- merge Transcript _Clean and profile dataframes.\n",
    "- drop duplicate customer value and id columns.\n",
    "- merge Transcript _Clean, profile and portfolio dataframes.\n",
    "- drop 'reward_y' column.\n",
    "- check and remove all missing data."
   ]
  },
  {
   "cell_type": "code",
   "execution_count": 58,
   "metadata": {},
   "outputs": [],
   "source": [
    "transcript_clean = transcript_clean.rename(columns={'person':'person_id'})"
   ]
  },
  {
   "cell_type": "code",
   "execution_count": 59,
   "metadata": {},
   "outputs": [],
   "source": [
    "# merge transcript_clean and profile dataframes\n",
    "transcript_profile = pd.merge(transcript_clean, profile, left_on=['person_id'], right_on = ['id'], how ='left')\n",
    "\n",
    "#drop duplicate customer id columns\n",
    "transcript_profile.drop(['id'], axis=1, inplace=True)\n",
    "\n",
    "#merge transcript, profile and portfolio dataframes\n",
    "final_data = pd.merge(transcript_profile, portfolio, left_on=['offer_id'], right_on = ['id'], how ='left')\\\n",
    "                .drop('id', axis=1)"
   ]
  },
  {
   "cell_type": "code",
   "execution_count": 60,
   "metadata": {},
   "outputs": [],
   "source": [
    "final_data.drop(['reward_y'],axis=1,inplace=True)"
   ]
  },
  {
   "cell_type": "code",
   "execution_count": 61,
   "metadata": {},
   "outputs": [
    {
     "data": {
      "text/html": [
       "<div>\n",
       "<style scoped>\n",
       "    .dataframe tbody tr th:only-of-type {\n",
       "        vertical-align: middle;\n",
       "    }\n",
       "\n",
       "    .dataframe tbody tr th {\n",
       "        vertical-align: top;\n",
       "    }\n",
       "\n",
       "    .dataframe thead th {\n",
       "        text-align: right;\n",
       "    }\n",
       "</style>\n",
       "<table border=\"1\" class=\"dataframe\">\n",
       "  <thead>\n",
       "    <tr style=\"text-align: right;\">\n",
       "      <th></th>\n",
       "      <th>person_id</th>\n",
       "      <th>offer_completed</th>\n",
       "      <th>time</th>\n",
       "      <th>offer_id</th>\n",
       "      <th>amount</th>\n",
       "      <th>reward_x</th>\n",
       "      <th>age</th>\n",
       "      <th>became_member_on</th>\n",
       "      <th>gender</th>\n",
       "      <th>income</th>\n",
       "      <th>...</th>\n",
       "      <th>age_range</th>\n",
       "      <th>Income_range</th>\n",
       "      <th>difficulty</th>\n",
       "      <th>duration</th>\n",
       "      <th>offer_type</th>\n",
       "      <th>social</th>\n",
       "      <th>web</th>\n",
       "      <th>mobile</th>\n",
       "      <th>email</th>\n",
       "      <th>offer_Number</th>\n",
       "    </tr>\n",
       "  </thead>\n",
       "  <tbody>\n",
       "    <tr>\n",
       "      <th>0</th>\n",
       "      <td>a03223e636434f42ac4c3df47e8bac43</td>\n",
       "      <td>0</td>\n",
       "      <td>0</td>\n",
       "      <td>Discount_1</td>\n",
       "      <td>0.0</td>\n",
       "      <td>0</td>\n",
       "      <td>NaN</td>\n",
       "      <td>NaN</td>\n",
       "      <td>NaN</td>\n",
       "      <td>NaN</td>\n",
       "      <td>...</td>\n",
       "      <td>NaN</td>\n",
       "      <td>NaN</td>\n",
       "      <td>20</td>\n",
       "      <td>10</td>\n",
       "      <td>discount</td>\n",
       "      <td>0</td>\n",
       "      <td>1</td>\n",
       "      <td>0</td>\n",
       "      <td>1</td>\n",
       "      <td>offer_5</td>\n",
       "    </tr>\n",
       "    <tr>\n",
       "      <th>1</th>\n",
       "      <td>8ec6ce2a7e7949b1bf142def7d0e0586</td>\n",
       "      <td>0</td>\n",
       "      <td>0</td>\n",
       "      <td>Discount_3</td>\n",
       "      <td>0.0</td>\n",
       "      <td>0</td>\n",
       "      <td>NaN</td>\n",
       "      <td>NaN</td>\n",
       "      <td>NaN</td>\n",
       "      <td>NaN</td>\n",
       "      <td>...</td>\n",
       "      <td>NaN</td>\n",
       "      <td>NaN</td>\n",
       "      <td>10</td>\n",
       "      <td>10</td>\n",
       "      <td>discount</td>\n",
       "      <td>1</td>\n",
       "      <td>1</td>\n",
       "      <td>1</td>\n",
       "      <td>1</td>\n",
       "      <td>offer_7</td>\n",
       "    </tr>\n",
       "    <tr>\n",
       "      <th>2</th>\n",
       "      <td>68617ca6246f4fbc85e91a2a49552598</td>\n",
       "      <td>0</td>\n",
       "      <td>0</td>\n",
       "      <td>BOGO_2</td>\n",
       "      <td>0.0</td>\n",
       "      <td>0</td>\n",
       "      <td>NaN</td>\n",
       "      <td>NaN</td>\n",
       "      <td>NaN</td>\n",
       "      <td>NaN</td>\n",
       "      <td>...</td>\n",
       "      <td>NaN</td>\n",
       "      <td>NaN</td>\n",
       "      <td>10</td>\n",
       "      <td>5</td>\n",
       "      <td>bogo</td>\n",
       "      <td>1</td>\n",
       "      <td>1</td>\n",
       "      <td>1</td>\n",
       "      <td>1</td>\n",
       "      <td>offer_2</td>\n",
       "    </tr>\n",
       "    <tr>\n",
       "      <th>3</th>\n",
       "      <td>2eeac8d8feae4a8cad5a6af0499a211d</td>\n",
       "      <td>0</td>\n",
       "      <td>0</td>\n",
       "      <td>Info_1</td>\n",
       "      <td>0.0</td>\n",
       "      <td>0</td>\n",
       "      <td>58.0</td>\n",
       "      <td>2017.0</td>\n",
       "      <td>M</td>\n",
       "      <td>51000.0</td>\n",
       "      <td>...</td>\n",
       "      <td>60-69</td>\n",
       "      <td>50K-59K</td>\n",
       "      <td>0</td>\n",
       "      <td>4</td>\n",
       "      <td>informational</td>\n",
       "      <td>0</td>\n",
       "      <td>1</td>\n",
       "      <td>1</td>\n",
       "      <td>1</td>\n",
       "      <td>offer_3</td>\n",
       "    </tr>\n",
       "    <tr>\n",
       "      <th>4</th>\n",
       "      <td>744d603ef08c4f33af5a61c8c7628d1c</td>\n",
       "      <td>0</td>\n",
       "      <td>0</td>\n",
       "      <td>Discount_1</td>\n",
       "      <td>0.0</td>\n",
       "      <td>0</td>\n",
       "      <td>NaN</td>\n",
       "      <td>NaN</td>\n",
       "      <td>NaN</td>\n",
       "      <td>NaN</td>\n",
       "      <td>...</td>\n",
       "      <td>NaN</td>\n",
       "      <td>NaN</td>\n",
       "      <td>20</td>\n",
       "      <td>10</td>\n",
       "      <td>discount</td>\n",
       "      <td>0</td>\n",
       "      <td>1</td>\n",
       "      <td>0</td>\n",
       "      <td>1</td>\n",
       "      <td>offer_5</td>\n",
       "    </tr>\n",
       "  </tbody>\n",
       "</table>\n",
       "<p>5 rows × 22 columns</p>\n",
       "</div>"
      ],
      "text/plain": [
       "                          person_id  offer_completed  time    offer_id  \\\n",
       "0  a03223e636434f42ac4c3df47e8bac43                0     0  Discount_1   \n",
       "1  8ec6ce2a7e7949b1bf142def7d0e0586                0     0  Discount_3   \n",
       "2  68617ca6246f4fbc85e91a2a49552598                0     0      BOGO_2   \n",
       "3  2eeac8d8feae4a8cad5a6af0499a211d                0     0      Info_1   \n",
       "4  744d603ef08c4f33af5a61c8c7628d1c                0     0  Discount_1   \n",
       "\n",
       "   amount  reward_x   age  became_member_on gender   income      ...       \\\n",
       "0     0.0         0   NaN               NaN    NaN      NaN      ...        \n",
       "1     0.0         0   NaN               NaN    NaN      NaN      ...        \n",
       "2     0.0         0   NaN               NaN    NaN      NaN      ...        \n",
       "3     0.0         0  58.0            2017.0      M  51000.0      ...        \n",
       "4     0.0         0   NaN               NaN    NaN      NaN      ...        \n",
       "\n",
       "   age_range  Income_range difficulty duration     offer_type  social web  \\\n",
       "0        NaN           NaN         20       10       discount       0   1   \n",
       "1        NaN           NaN         10       10       discount       1   1   \n",
       "2        NaN           NaN         10        5           bogo       1   1   \n",
       "3      60-69       50K-59K          0        4  informational       0   1   \n",
       "4        NaN           NaN         20       10       discount       0   1   \n",
       "\n",
       "   mobile  email  offer_Number  \n",
       "0       0      1       offer_5  \n",
       "1       1      1       offer_7  \n",
       "2       1      1       offer_2  \n",
       "3       1      1       offer_3  \n",
       "4       0      1       offer_5  \n",
       "\n",
       "[5 rows x 22 columns]"
      ]
     },
     "execution_count": 61,
     "metadata": {},
     "output_type": "execute_result"
    }
   ],
   "source": [
    "final_data.head()"
   ]
  },
  {
   "cell_type": "code",
   "execution_count": 62,
   "metadata": {},
   "outputs": [],
   "source": [
    "final_data.dropna(subset = [\"age\"], inplace=True)"
   ]
  },
  {
   "cell_type": "code",
   "execution_count": 63,
   "metadata": {},
   "outputs": [
    {
     "data": {
      "text/html": [
       "<div>\n",
       "<style scoped>\n",
       "    .dataframe tbody tr th:only-of-type {\n",
       "        vertical-align: middle;\n",
       "    }\n",
       "\n",
       "    .dataframe tbody tr th {\n",
       "        vertical-align: top;\n",
       "    }\n",
       "\n",
       "    .dataframe thead th {\n",
       "        text-align: right;\n",
       "    }\n",
       "</style>\n",
       "<table border=\"1\" class=\"dataframe\">\n",
       "  <thead>\n",
       "    <tr style=\"text-align: right;\">\n",
       "      <th></th>\n",
       "      <th>person_id</th>\n",
       "      <th>offer_completed</th>\n",
       "      <th>time</th>\n",
       "      <th>offer_id</th>\n",
       "      <th>amount</th>\n",
       "      <th>reward_x</th>\n",
       "      <th>age</th>\n",
       "      <th>became_member_on</th>\n",
       "      <th>gender</th>\n",
       "      <th>income</th>\n",
       "      <th>...</th>\n",
       "      <th>age_range</th>\n",
       "      <th>Income_range</th>\n",
       "      <th>difficulty</th>\n",
       "      <th>duration</th>\n",
       "      <th>offer_type</th>\n",
       "      <th>social</th>\n",
       "      <th>web</th>\n",
       "      <th>mobile</th>\n",
       "      <th>email</th>\n",
       "      <th>offer_Number</th>\n",
       "    </tr>\n",
       "  </thead>\n",
       "  <tbody>\n",
       "    <tr>\n",
       "      <th>3</th>\n",
       "      <td>2eeac8d8feae4a8cad5a6af0499a211d</td>\n",
       "      <td>0</td>\n",
       "      <td>0</td>\n",
       "      <td>Info_1</td>\n",
       "      <td>0.0</td>\n",
       "      <td>0</td>\n",
       "      <td>58.0</td>\n",
       "      <td>2017.0</td>\n",
       "      <td>M</td>\n",
       "      <td>51000.0</td>\n",
       "      <td>...</td>\n",
       "      <td>60-69</td>\n",
       "      <td>50K-59K</td>\n",
       "      <td>0</td>\n",
       "      <td>4</td>\n",
       "      <td>informational</td>\n",
       "      <td>0</td>\n",
       "      <td>1</td>\n",
       "      <td>1</td>\n",
       "      <td>1</td>\n",
       "      <td>offer_3</td>\n",
       "    </tr>\n",
       "    <tr>\n",
       "      <th>6</th>\n",
       "      <td>c27e0d6ab72c455a8bb66d980963de60</td>\n",
       "      <td>0</td>\n",
       "      <td>0</td>\n",
       "      <td>Info_1</td>\n",
       "      <td>0.0</td>\n",
       "      <td>0</td>\n",
       "      <td>78.0</td>\n",
       "      <td>2017.0</td>\n",
       "      <td>F</td>\n",
       "      <td>71000.0</td>\n",
       "      <td>...</td>\n",
       "      <td>+80</td>\n",
       "      <td>70K-79K</td>\n",
       "      <td>0</td>\n",
       "      <td>4</td>\n",
       "      <td>informational</td>\n",
       "      <td>0</td>\n",
       "      <td>1</td>\n",
       "      <td>1</td>\n",
       "      <td>1</td>\n",
       "      <td>offer_3</td>\n",
       "    </tr>\n",
       "    <tr>\n",
       "      <th>7</th>\n",
       "      <td>02c083884c7d45b39cc68e1314fec56c</td>\n",
       "      <td>0</td>\n",
       "      <td>0</td>\n",
       "      <td>BOGO_1</td>\n",
       "      <td>0.0</td>\n",
       "      <td>0</td>\n",
       "      <td>20.0</td>\n",
       "      <td>2016.0</td>\n",
       "      <td>F</td>\n",
       "      <td>30000.0</td>\n",
       "      <td>...</td>\n",
       "      <td>20-29</td>\n",
       "      <td>NaN</td>\n",
       "      <td>10</td>\n",
       "      <td>7</td>\n",
       "      <td>bogo</td>\n",
       "      <td>1</td>\n",
       "      <td>0</td>\n",
       "      <td>1</td>\n",
       "      <td>1</td>\n",
       "      <td>offer_1</td>\n",
       "    </tr>\n",
       "    <tr>\n",
       "      <th>8</th>\n",
       "      <td>be8a5d1981a2458d90b255ddc7e0d174</td>\n",
       "      <td>0</td>\n",
       "      <td>0</td>\n",
       "      <td>info_2</td>\n",
       "      <td>0.0</td>\n",
       "      <td>0</td>\n",
       "      <td>39.0</td>\n",
       "      <td>2014.0</td>\n",
       "      <td>M</td>\n",
       "      <td>51000.0</td>\n",
       "      <td>...</td>\n",
       "      <td>40-49</td>\n",
       "      <td>50K-59K</td>\n",
       "      <td>0</td>\n",
       "      <td>3</td>\n",
       "      <td>informational</td>\n",
       "      <td>1</td>\n",
       "      <td>0</td>\n",
       "      <td>1</td>\n",
       "      <td>1</td>\n",
       "      <td>offer_8</td>\n",
       "    </tr>\n",
       "    <tr>\n",
       "      <th>10</th>\n",
       "      <td>a5a6ef2b78a04ddc9f374dd7c7f60bff</td>\n",
       "      <td>0</td>\n",
       "      <td>0</td>\n",
       "      <td>info_2</td>\n",
       "      <td>0.0</td>\n",
       "      <td>0</td>\n",
       "      <td>75.0</td>\n",
       "      <td>2015.0</td>\n",
       "      <td>M</td>\n",
       "      <td>52000.0</td>\n",
       "      <td>...</td>\n",
       "      <td>+80</td>\n",
       "      <td>50K-59K</td>\n",
       "      <td>0</td>\n",
       "      <td>3</td>\n",
       "      <td>informational</td>\n",
       "      <td>1</td>\n",
       "      <td>0</td>\n",
       "      <td>1</td>\n",
       "      <td>1</td>\n",
       "      <td>offer_8</td>\n",
       "    </tr>\n",
       "  </tbody>\n",
       "</table>\n",
       "<p>5 rows × 22 columns</p>\n",
       "</div>"
      ],
      "text/plain": [
       "                           person_id  offer_completed  time offer_id  amount  \\\n",
       "3   2eeac8d8feae4a8cad5a6af0499a211d                0     0   Info_1     0.0   \n",
       "6   c27e0d6ab72c455a8bb66d980963de60                0     0   Info_1     0.0   \n",
       "7   02c083884c7d45b39cc68e1314fec56c                0     0   BOGO_1     0.0   \n",
       "8   be8a5d1981a2458d90b255ddc7e0d174                0     0   info_2     0.0   \n",
       "10  a5a6ef2b78a04ddc9f374dd7c7f60bff                0     0   info_2     0.0   \n",
       "\n",
       "    reward_x   age  became_member_on gender   income      ...       age_range  \\\n",
       "3          0  58.0            2017.0      M  51000.0      ...           60-69   \n",
       "6          0  78.0            2017.0      F  71000.0      ...             +80   \n",
       "7          0  20.0            2016.0      F  30000.0      ...           20-29   \n",
       "8          0  39.0            2014.0      M  51000.0      ...           40-49   \n",
       "10         0  75.0            2015.0      M  52000.0      ...             +80   \n",
       "\n",
       "    Income_range difficulty duration     offer_type  social web  mobile  \\\n",
       "3        50K-59K          0        4  informational       0   1       1   \n",
       "6        70K-79K          0        4  informational       0   1       1   \n",
       "7            NaN         10        7           bogo       1   0       1   \n",
       "8        50K-59K          0        3  informational       1   0       1   \n",
       "10       50K-59K          0        3  informational       1   0       1   \n",
       "\n",
       "    email  offer_Number  \n",
       "3       1       offer_3  \n",
       "6       1       offer_3  \n",
       "7       1       offer_1  \n",
       "8       1       offer_8  \n",
       "10      1       offer_8  \n",
       "\n",
       "[5 rows x 22 columns]"
      ]
     },
     "execution_count": 63,
     "metadata": {},
     "output_type": "execute_result"
    }
   ],
   "source": [
    "final_data.head()"
   ]
  },
  {
   "cell_type": "markdown",
   "metadata": {},
   "source": [
    "Created a copy from the final_data Dataset and dropped all categorical fields to be able to build a machine learning model"
   ]
  },
  {
   "cell_type": "code",
   "execution_count": 64,
   "metadata": {},
   "outputs": [],
   "source": [
    "cleaned_final_data = final_data.drop(['person_id','gender','offer_type','offer_Number'\n",
    "                                      ,'offer_id','became_member_on','age_range','Income_range'],axis=1)"
   ]
  },
  {
   "cell_type": "code",
   "execution_count": 65,
   "metadata": {},
   "outputs": [
    {
     "data": {
      "text/html": [
       "<div>\n",
       "<style scoped>\n",
       "    .dataframe tbody tr th:only-of-type {\n",
       "        vertical-align: middle;\n",
       "    }\n",
       "\n",
       "    .dataframe tbody tr th {\n",
       "        vertical-align: top;\n",
       "    }\n",
       "\n",
       "    .dataframe thead th {\n",
       "        text-align: right;\n",
       "    }\n",
       "</style>\n",
       "<table border=\"1\" class=\"dataframe\">\n",
       "  <thead>\n",
       "    <tr style=\"text-align: right;\">\n",
       "      <th></th>\n",
       "      <th>offer_completed</th>\n",
       "      <th>time</th>\n",
       "      <th>amount</th>\n",
       "      <th>reward_x</th>\n",
       "      <th>age</th>\n",
       "      <th>income</th>\n",
       "      <th>male</th>\n",
       "      <th>female</th>\n",
       "      <th>difficulty</th>\n",
       "      <th>duration</th>\n",
       "      <th>social</th>\n",
       "      <th>web</th>\n",
       "      <th>mobile</th>\n",
       "      <th>email</th>\n",
       "    </tr>\n",
       "  </thead>\n",
       "  <tbody>\n",
       "    <tr>\n",
       "      <th>3</th>\n",
       "      <td>0</td>\n",
       "      <td>0</td>\n",
       "      <td>0.0</td>\n",
       "      <td>0</td>\n",
       "      <td>58.0</td>\n",
       "      <td>51000.0</td>\n",
       "      <td>1.0</td>\n",
       "      <td>0.0</td>\n",
       "      <td>0</td>\n",
       "      <td>4</td>\n",
       "      <td>0</td>\n",
       "      <td>1</td>\n",
       "      <td>1</td>\n",
       "      <td>1</td>\n",
       "    </tr>\n",
       "    <tr>\n",
       "      <th>6</th>\n",
       "      <td>0</td>\n",
       "      <td>0</td>\n",
       "      <td>0.0</td>\n",
       "      <td>0</td>\n",
       "      <td>78.0</td>\n",
       "      <td>71000.0</td>\n",
       "      <td>0.0</td>\n",
       "      <td>1.0</td>\n",
       "      <td>0</td>\n",
       "      <td>4</td>\n",
       "      <td>0</td>\n",
       "      <td>1</td>\n",
       "      <td>1</td>\n",
       "      <td>1</td>\n",
       "    </tr>\n",
       "    <tr>\n",
       "      <th>7</th>\n",
       "      <td>0</td>\n",
       "      <td>0</td>\n",
       "      <td>0.0</td>\n",
       "      <td>0</td>\n",
       "      <td>20.0</td>\n",
       "      <td>30000.0</td>\n",
       "      <td>0.0</td>\n",
       "      <td>1.0</td>\n",
       "      <td>10</td>\n",
       "      <td>7</td>\n",
       "      <td>1</td>\n",
       "      <td>0</td>\n",
       "      <td>1</td>\n",
       "      <td>1</td>\n",
       "    </tr>\n",
       "    <tr>\n",
       "      <th>8</th>\n",
       "      <td>0</td>\n",
       "      <td>0</td>\n",
       "      <td>0.0</td>\n",
       "      <td>0</td>\n",
       "      <td>39.0</td>\n",
       "      <td>51000.0</td>\n",
       "      <td>1.0</td>\n",
       "      <td>0.0</td>\n",
       "      <td>0</td>\n",
       "      <td>3</td>\n",
       "      <td>1</td>\n",
       "      <td>0</td>\n",
       "      <td>1</td>\n",
       "      <td>1</td>\n",
       "    </tr>\n",
       "    <tr>\n",
       "      <th>10</th>\n",
       "      <td>0</td>\n",
       "      <td>0</td>\n",
       "      <td>0.0</td>\n",
       "      <td>0</td>\n",
       "      <td>75.0</td>\n",
       "      <td>52000.0</td>\n",
       "      <td>1.0</td>\n",
       "      <td>0.0</td>\n",
       "      <td>0</td>\n",
       "      <td>3</td>\n",
       "      <td>1</td>\n",
       "      <td>0</td>\n",
       "      <td>1</td>\n",
       "      <td>1</td>\n",
       "    </tr>\n",
       "  </tbody>\n",
       "</table>\n",
       "</div>"
      ],
      "text/plain": [
       "    offer_completed  time  amount  reward_x   age   income  male  female  \\\n",
       "3                 0     0     0.0         0  58.0  51000.0   1.0     0.0   \n",
       "6                 0     0     0.0         0  78.0  71000.0   0.0     1.0   \n",
       "7                 0     0     0.0         0  20.0  30000.0   0.0     1.0   \n",
       "8                 0     0     0.0         0  39.0  51000.0   1.0     0.0   \n",
       "10                0     0     0.0         0  75.0  52000.0   1.0     0.0   \n",
       "\n",
       "    difficulty  duration  social  web  mobile  email  \n",
       "3            0         4       0    1       1      1  \n",
       "6            0         4       0    1       1      1  \n",
       "7           10         7       1    0       1      1  \n",
       "8            0         3       1    0       1      1  \n",
       "10           0         3       1    0       1      1  "
      ]
     },
     "execution_count": 65,
     "metadata": {},
     "output_type": "execute_result"
    }
   ],
   "source": [
    "cleaned_final_data.head()"
   ]
  },
  {
   "cell_type": "markdown",
   "metadata": {},
   "source": [
    "## And Now let's Answer on some of the questions of our Business Problem"
   ]
  },
  {
   "cell_type": "markdown",
   "metadata": {},
   "source": [
    "### Q1: Which gender spends more men or Female?"
   ]
  },
  {
   "cell_type": "code",
   "execution_count": 66,
   "metadata": {},
   "outputs": [],
   "source": [
    "Male = profile[profile['gender']=='M']\n",
    "Female = profile[profile['gender']=='F']"
   ]
  },
  {
   "cell_type": "code",
   "execution_count": 67,
   "metadata": {
    "scrolled": true
   },
   "outputs": [
    {
     "data": {
      "image/png": "[encoded data removed]",
      "text/plain": [
       "<matplotlib.figure.Figure at 0x7f7a18c0b6a0>"
      ]
     },
     "metadata": {
      "needs_background": "light"
     },
     "output_type": "display_data"
    }
   ],
   "source": [
    "plt.figure(figsize=(20, 10));\n",
    "plt.subplot(2, 2, 1)\n",
    "#######\n",
    "Male['income'].plot(kind='hist', title = 'Male Income', color='#00008B');\n",
    "plt.axvline(Male.income.mean(), color='k', linestyle='dashed', linewidth=2);\n",
    "#######\n",
    "plt.subplot(2, 2, 2)\n",
    "Female['income'].plot(kind='hist', title = 'Female Income', color = '#FFC300');\n",
    "plt.axvline(Female.income.mean(), color='k', linestyle='dashed', linewidth=2);\n",
    "#######\n",
    "plt.subplot(2, 2, 3)\n",
    "Male['age'].plot(kind='hist', title = 'Male Age', color = '#00008B');\n",
    "plt.axvline(Male.age.mean(), color='k', linestyle='dashed', linewidth=2);\n",
    "####### \"#D72424\",\"#FFC300\"\n",
    "plt.subplot(2, 2, 4)\n",
    "Female['age'].plot(kind='hist', title = 'Female Age', color = '#FFC300');\n",
    "plt.axvline(Female.age.mean(), color='k', linestyle='dashed', linewidth=2);"
   ]
  },
  {
   "cell_type": "markdown",
   "metadata": {},
   "source": [
    "The minimum and maximum incomes for males and females are the same, however the male income starts to flatten out towards the high incomes. And as you can see from the dashed line, the average income for women is higher than the average income for men."
   ]
  },
  {
   "cell_type": "markdown",
   "metadata": {},
   "source": [
    "### Q2: Which gender became a member more than the other?"
   ]
  },
  {
   "cell_type": "code",
   "execution_count": 68,
   "metadata": {
    "scrolled": false
   },
   "outputs": [
    {
     "data": {
      "text/plain": [
       "<matplotlib.axes._subplots.AxesSubplot at 0x7f7a18c832e8>"
      ]
     },
     "execution_count": 68,
     "metadata": {},
     "output_type": "execute_result"
    },
    {
     "data": {
      "image/png": "[encoded data removed]",
      "text/plain": [
       "<matplotlib.figure.Figure at 0x7f7a18cbdda0>"
      ]
     },
     "metadata": {
      "needs_background": "light"
     },
     "output_type": "display_data"
    }
   ],
   "source": [
    "gender_count = profile[profile['gender']!='O'].groupby(['gender','became_member_on']).agg({'id':'count'}).reset_index()\n",
    "sns.barplot(x='became_member_on', y='id', hue = 'gender', data = gender_count)"
   ]
  },
  {
   "cell_type": "markdown",
   "metadata": {},
   "source": [
    "Membership has increased over the years. Also, male membership is greater than the female membership every year"
   ]
  },
  {
   "cell_type": "markdown",
   "metadata": {},
   "source": [
    "### Q3: What is the most popular channels for each offer Types ?"
   ]
  },
  {
   "cell_type": "code",
   "execution_count": 69,
   "metadata": {
    "scrolled": true
   },
   "outputs": [
    {
     "data": {
      "image/png": "[encoded data removed]",
      "text/plain": [
       "<matplotlib.figure.Figure at 0x7f7a18b704e0>"
      ]
     },
     "metadata": {
      "needs_background": "light"
     },
     "output_type": "display_data"
    }
   ],
   "source": [
    "fig, ax = plt.subplots(figsize=(9,5))\n",
    "\n",
    "portfolio.groupby('offer_type').sum()[['web', 'email', 'mobile', 'social']]\\\n",
    ".plot(kind='bar', ax=ax, color=[\"#D72424\",\"#FFC300\",\"#1B9B2E\",\"#00008B\"])\n",
    "ax.set_xticklabels(ax.get_xticklabels(), rotation=0)\n",
    "ax.set_title('Offer Types by Channels')\n",
    "ax.set_ylabel('Count')\n",
    "ax.set_xlabel('Type of Offer'); # bat chart to show all Type of Offer by Channels"
   ]
  },
  {
   "cell_type": "markdown",
   "metadata": {},
   "source": [
    "In general, the graph shows : \n",
    "- The most popular channels for bogo offers : email and mobile.\n",
    "- The most popular channels for discount offers : email and web.\n",
    "- The most popular channels for informational offers : email and mobile."
   ]
  },
  {
   "cell_type": "markdown",
   "metadata": {},
   "source": [
    "### Q4 :Which offer number is the most completed ? "
   ]
  },
  {
   "cell_type": "code",
   "execution_count": 70,
   "metadata": {
    "scrolled": false
   },
   "outputs": [
    {
     "data": {
      "image/png": "[encoded data removed]",
      "text/plain": [
       "<matplotlib.figure.Figure at 0x7f7a18af2208>"
      ]
     },
     "metadata": {
      "needs_background": "light"
     },
     "output_type": "display_data"
    }
   ],
   "source": [
    "fig = plt.figure(figsize=(8,4))\n",
    "sns.countplot(x='offer_Number',hue='offer_completed',data=final_data)\n",
    "plt.title('Count of completed offer or not')\n",
    "plt.show();"
   ]
  },
  {
   "cell_type": "markdown",
   "metadata": {},
   "source": [
    "From the chart we can say that the most completed offer is offer_7 followed by offer_6"
   ]
  },
  {
   "cell_type": "markdown",
   "metadata": {},
   "source": [
    "### Q5 :What is the gender of the most completed offer?"
   ]
  },
  {
   "cell_type": "code",
   "execution_count": 71,
   "metadata": {
    "scrolled": true
   },
   "outputs": [
    {
     "data": {
      "image/png": "[encoded data removed]",
      "text/plain": [
       "<matplotlib.figure.Figure at 0x7f7a18ab0320>"
      ]
     },
     "metadata": {
      "needs_background": "light"
     },
     "output_type": "display_data"
    }
   ],
   "source": [
    "fig = plt.figure(figsize=(8,4))\n",
    "sns.countplot(x='gender',hue='offer_completed',data=final_data)\n",
    "plt.title('Count of Offer Type per Gender ')\n",
    "plt.show();"
   ]
  },
  {
   "cell_type": "markdown",
   "metadata": {},
   "source": [
    "According to this graph, males complete offers are greater than females"
   ]
  },
  {
   "cell_type": "markdown",
   "metadata": {},
   "source": [
    "### Data Modeling"
   ]
  },
  {
   "cell_type": "markdown",
   "metadata": {},
   "source": [
    "### Train and test data sets"
   ]
  },
  {
   "cell_type": "code",
   "execution_count": 72,
   "metadata": {},
   "outputs": [],
   "source": [
    "X = cleaned_final_data.iloc[:,1:] # select features \n",
    "y = cleaned_final_data.iloc[:,0] # select target feature "
   ]
  },
  {
   "cell_type": "code",
   "execution_count": 73,
   "metadata": {},
   "outputs": [],
   "source": [
    "#  set the train and test  with the test_size 0.3 and random state is 5\n",
    "X_train, X_test, y_train,y_test = train_test_split(X,y,test_size=0.3, random_state=5) "
   ]
  },
  {
   "cell_type": "markdown",
   "metadata": {},
   "source": [
    "### Scaling train and test data"
   ]
  },
  {
   "cell_type": "code",
   "execution_count": 74,
   "metadata": {},
   "outputs": [],
   "source": [
    "ss = StandardScaler() # Scaling data\n",
    "Xs_train = ss.fit_transform(X_train)\n",
    "Xs_test = ss.transform(X_test)"
   ]
  },
  {
   "cell_type": "markdown",
   "metadata": {},
   "source": [
    "### Building model"
   ]
  },
  {
   "cell_type": "code",
   "execution_count": 75,
   "metadata": {},
   "outputs": [],
   "source": [
    "def build_model(model,model_name,y_test=y_test,y_train=y_train):\n",
    "    \"\"\"\n",
    "    INPUT:\n",
    "    model -  model\n",
    "    model_name - a name of model\n",
    "  \n",
    "    OUTPUT:\n",
    "    accuracy_score_train  (int) - accuracy score for the train dataset\n",
    "    accuracy_score_test (int) - accuracy score for the test dataset\n",
    "    \"\"\"\n",
    "\n",
    "    model.fit(Xs_train, y_train) # Fit train data into model\n",
    "\n",
    "    # Predict y train and test\n",
    "    y_pred_train = model.predict(Xs_train)\n",
    "    y_pred_test = model.predict(Xs_test)\n",
    "\n",
    "    cm = confusion_matrix(y_test, y_pred_test)\n",
    "    plt.figure(figsize=(5, 4))\n",
    "    sns.heatmap(cm, annot=True, fmt='d')\n",
    "    plt.title('THe Test Confusion Matrix of - '+model_name)\n",
    "    plt.show()\n",
    "    \n",
    "    print(\"Accuracy Score of \"+model_name+f\": {accuracy_score(y_train,y_pred_train)}\")\n",
    "    print(\"Accuracy Score of \"+model_name+f\": {accuracy_score(y_test,y_pred_test)}\")\n",
    "\n",
    "    return accuracy_score(y_train,y_pred_train), accuracy_score(y_test,y_pred_test)"
   ]
  },
  {
   "cell_type": "markdown",
   "metadata": {},
   "source": [
    "### Decision Tree"
   ]
  },
  {
   "cell_type": "code",
   "execution_count": 79,
   "metadata": {},
   "outputs": [
    {
     "data": {
      "image/png": "[encoded data removed]",
      "text/plain": [
       "<matplotlib.figure.Figure at 0x7f7a188e8630>"
      ]
     },
     "metadata": {
      "needs_background": "light"
     },
     "output_type": "display_data"
    },
    {
     "name": "stdout",
     "output_type": "stream",
     "text": [
      "Accuracy Score of DecisionTree: 0.9993755528958734\n",
      "Accuracy Score of DecisionTree: 0.9368018455560952\n"
     ]
    }
   ],
   "source": [
    "# decisiontree Model\n",
    "decisiontree = DecisionTreeClassifier()\n",
    "\n",
    "# build model and show accuracy score of train and test dataset\n",
    "accuracy_score_train, accuracy_score_test = build_model(decisiontree,\"DecisionTree\")\n",
    "\n",
    "train_score = {}\n",
    "test_score = {}\n",
    "\n",
    "train_score['DecisionTree'] = accuracy_score_train\n",
    "test_score['DecisionTree'] = accuracy_score_test"
   ]
  },
  {
   "cell_type": "markdown",
   "metadata": {},
   "source": [
    "### Random Forest"
   ]
  },
  {
   "cell_type": "code",
   "execution_count": 84,
   "metadata": {},
   "outputs": [
    {
     "data": {
      "image/png": "[encoded data removed]",
      "text/plain": [
       "<matplotlib.figure.Figure at 0x7f7a1877f550>"
      ]
     },
     "metadata": {
      "needs_background": "light"
     },
     "output_type": "display_data"
    },
    {
     "name": "stdout",
     "output_type": "stream",
     "text": [
      "Accuracy Score of RandomForest: 0.995498777124421\n",
      "Accuracy Score of RandomForest: 0.9104541039339485\n"
     ]
    }
   ],
   "source": [
    "randomforest = RandomForestClassifier() # RandomForest Model\n",
    "\n",
    "# build model and show accuracy score of train and test dataset\n",
    "accuracy_score_train, accuracy_score_test = build_model(randomforest,\"RandomForest\") \n",
    "\n",
    "train_score = {}\n",
    "test_score = {}\n",
    "\n",
    "train_score['RandomForest'] = accuracy_score_train\n",
    "test_score['RandomForest'] = accuracy_score_test"
   ]
  },
  {
   "cell_type": "markdown",
   "metadata": {},
   "source": [
    "### Logistic Regression"
   ]
  },
  {
   "cell_type": "code",
   "execution_count": 80,
   "metadata": {
    "scrolled": false
   },
   "outputs": [
    {
     "data": {
      "image/png": "[encoded data removed]",
      "text/plain": [
       "<matplotlib.figure.Figure at 0x7f7a1885ad68>"
      ]
     },
     "metadata": {
      "needs_background": "light"
     },
     "output_type": "display_data"
    },
    {
     "name": "stdout",
     "output_type": "stream",
     "text": [
      "Accuracy Score of LogisticRegression: 0.8220846125826091\n",
      "Accuracy Score of LogisticRegression: 0.822425934919864\n"
     ]
    }
   ],
   "source": [
    "logisticregression = LogisticRegression() # Logistic Regression Model\n",
    "\n",
    "# build model and show accuracy score of train and test dataset\n",
    "\n",
    "accuracy_score_train, accuracy_score_test = build_model(logisticregression,\"LogisticRegression\") \n",
    "\n",
    "train_score = {}\n",
    "test_score = {}\n",
    "\n",
    "train_score['LogisticRegression'] = accuracy_score_train\n",
    "test_score['LogisticRegression'] = accuracy_score_test"
   ]
  },
  {
   "cell_type": "markdown",
   "metadata": {},
   "source": [
    "### Model Summary"
   ]
  },
  {
   "cell_type": "markdown",
   "metadata": {},
   "source": [
    "Several models have been developed to predict whether or not an offer will be accepted. The accuracy of all models is high since the lowest accuracy is 84.4%, and only Decision Tree and Random Forest have overfitting issues. As a result, those models perform well in train-sets and produce more errors in test-sets (unseen data). In order to solve this issue, we will tune the decision tree parameters, experiment with different training and testing splits, and analyze the set of features to find the most optimal ones."
   ]
  },
  {
   "cell_type": "markdown",
   "metadata": {},
   "source": [
    "### Conclusion "
   ]
  },
  {
   "cell_type": "markdown",
   "metadata": {},
   "source": [
    "Starbucks is one of the best-known companies in the food and beverage industry. As a summary of the findings, the number of app users has increased dramatically in 2016 and 2017. As well, users who spend more time on an offer are more likely to complete it. Most of the new or old users are male and enjoy discount offers the most, whereas most females dislike discounts and BOGOs. Also, email is a great way to send offers. Discounts feature a long duration in comparison to other types. \n",
    "\n",
    "I developed a machine learning model to predict whether or not users are going to complete the offer to support the marketing team in selecting the highest potential clients. Costs will be saved on finding influenced customers.\n",
    "\n",
    "Additionally, if more customer metrics were collected, better predictions would have been made. During this analysis, we only had access to age, gender, and income information about the customer. A few more features of a customer would be useful to find optimal customer demographics. These additional features may aid in providing better classification model results."
   ]
  }
 ],
 "metadata": {
  "kernelspec": {
   "display_name": "Python 3",
   "language": "python",
   "name": "python3"
  },
  "language_info": {
   "codemirror_mode": {
    "name": "ipython",
    "version": 3
   },
   "file_extension": ".py",
   "mimetype": "text/x-python",
   "name": "python",
   "nbconvert_exporter": "python",
   "pygments_lexer": "ipython3",
   "version": "3.6.3"
  }
 },
 "nbformat": 4,
 "nbformat_minor": 2
}
